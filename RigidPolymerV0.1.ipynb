{
 "cells": [
  {
   "cell_type": "code",
   "execution_count": null,
   "metadata": {},
   "outputs": [],
   "source": [
    "from __future__ import division\n",
    "import hoomd\n",
    "from hoomd import deprecated\n",
    "from hoomd import md\n",
    "import gsd.hoomd\n",
    "#import settings\n",
    "import random\n",
    "import numpy as np\n",
    "import time \n",
    "\n",
    "#For file naming\n",
    "t = time.strftime(time.strftime(\"%d %b %H:%M:%S\", time.gmtime()))\n",
    "\n",
    "#Variables\n",
    "deg=30\n",
    "Angle = deg*np.pi/180.\n",
    "beadr=0.8\n",
    "patchr=0.4\n",
    "br_pr=beadr-patchr\n",
    "\n",
    "\n",
    "def hoomdRun():\n",
    "    #Calls function to set initial coordinates\n",
    "    A,B,C = com()\n",
    "    # σ\n",
    "    sig = [1.0,1.0,1.0,0.005,1.0,1.0,1.0,0.005]\n",
    "    # ε\n",
    "    eps = [0.1,0.1,0.1,0.1,0.1,0.1,0.1,0.1]\n",
    "    #Cn = rigid center n\n",
    "    #Pmn = Patch # m at center n \n",
    "    types = ['2','P11','P21','P12','P22','C1','C2']\n",
    "\n",
    "    hoomd.context.initialize(\"\")\n",
    "    rcut =  max(sig)*2.5\n",
    "\n",
    "def com():\n",
    "    A = [0,0,0] #coordinates A\n",
    "    B = [0.7575,0.5865,0] #coordinates B\n",
    "    C = [1.515,0,0] #coordinates C\n",
    "    M = [1.0,16.0,1.0] #masses \n",
    "    TotalM = M[0]+M[1]+M[2] #total mass\n",
    "    cX = (M[0]*A[0] + M[1]*B[0] + M[2]*C[0])/TotalM #Center Of Mass coord, X\n",
    "    cY = (M[0]*A[1] + M[1]*B[1] + M[2]*C[1])/TotalM # Y\n",
    "    cZ = (M[0]*A[2] + M[1]*B[2] + M[2]*C[2])/TotalM # Z\n",
    "    com = [cX,cY,cZ]\n",
    "    cXYZ = [[A[0]-cX,A[1]-cY,A[2]-cZ],[B[0]-cX,B[1]-cY,B[2]-cZ],[C[0]-cX,C[1]-cY,C[2]-cZ]] # new coords\n",
    "    Ixx,Ixy,Ixz,Iyy,Iyz,Izz = 0.0,0.0,0.0,0.0,0.0,0.0\n",
    "    for i in range(3):\n",
    "        Ixx += M[i]*(cXYZ[i][1]**2 + cXYZ[i][2]**2)\n",
    "        Iyy += M[i]*(cXYZ[i][0]**2 + cXYZ[i][2]**2)\n",
    "        Izz += M[i]*(cXYZ[i][0]**2 + cXYZ[i][1]**2)\n",
    "        Ixy += -M[i]*cXYZ[i][0]*cXYZ[i][1]\n",
    "        Ixz += -M[i]*cXYZ[i][0]*cXYZ[i][2]\n",
    "        Iyz += -M[i]*cXYZ[i][1]*cXYZ[i][2]\n",
    "        Imatrix = np.matrix([[Ixx,Ixy,Ixz],[Ixy,Iyy,Iyz],[Ixz,Iyz,Izz]])\n",
    "        Idiag = np.linalg.eig(Imatrix)\n",
    "        print(Idiag)\n",
    "        comX = 0-com[0]\n",
    "    comY = 0-com[1]\n",
    "    A = [A[0]+comX,A[1]+comY,A[2]]\n",
    "    B = [B[0]+comX,B[1]+comY,B[2]]\n",
    "    C = [C[0]+comX,C[1]+comY,C[2]]\n",
    "    return A,B,C"
   ]
  },
  {
   "cell_type": "code",
   "execution_count": 44,
   "metadata": {},
   "outputs": [],
   "source": [
    "import hoomd\n",
    "import numpy as np\n",
    "\n",
    "\n",
    "class MoI:\n",
    "    pass\n",
    "\n",
    "##Goes before function is called\n",
    "##system=hoomd.init.read_snapshot(MakeSnap(boxsize, nparticles))\n",
    "class RigidBodies:\n",
    "    #To Do:\n",
    "        \n",
    "    def MakeRigid(self, nrigid, diam=None):\n",
    "        if diam==None:\n",
    "            for i in range(nrigid):\n",
    "                system.particles.get(i).position=[0+i,0,0]\n",
    "                system.particles.get(i).moment_inertia=[0.611524, 1.1476125, 1.7591365]\n",
    "                system.particles.get(i).diameter=1\n",
    "        else:\n",
    "            for i in range(nrigid):\n",
    "                system.particles.get(i).position=[0+i,0,0]\n",
    "                system.particles.get(i).moment_inertia=[0.611524, 1.1476125, 1.7591365]\n",
    "                system.particles.get(i).diameter=diam  \n",
    "    \n",
    "    \n",
    "class Polymer:\n",
    "    pass\n",
    "    \n",
    "class SimBox:\n",
    "    #To Do:\n",
    "    #Add Particle types\n",
    "    #Add Patches\n",
    "        #Allow number of patches\n",
    "        #Allow angle of pathches\n",
    "    def MakeSnap(self, boxsize, nrigid): \n",
    "        snapshot=hoomd.data.make_snapshot(N=nrigid,box=hoomd.data.boxdim(L=boxsize),bond_types=['tether'],particle_types=['V1','V2'])\n",
    "        return snapshot\n",
    "    \n",
    "    def AddParticleTypes(self,nparticles):\n",
    "        counter=1\n",
    "        for i in range(nparticles):\n",
    "            #Adds particle types, assigning the typeid as an arbitrary number.\n",
    "            counter+=i\n",
    "            system.particles.types.add('%d'%counter)\n",
    "            \n",
    "        \n",
    "\n",
    "        \n",
    "        \n",
    "\n",
    "        \n",
    "        \n",
    "        "
   ]
  },
  {
   "cell_type": "code",
   "execution_count": 17,
   "metadata": {},
   "outputs": [],
   "source": [
    "def Inputs(length, boxsize, nparticles, npatch, nrigid):\n",
    "    snapshot = SimBox.MakeSnap(boxsize, nparticles)\n",
    "    \n",
    "    "
   ]
  },
  {
   "cell_type": "code",
   "execution_count": 45,
   "metadata": {},
   "outputs": [
    {
     "name": "stdout",
     "output_type": "stream",
     "text": [
      "notice(2): Group \"all\" created containing 2 particles\n"
     ]
    }
   ],
   "source": [
    "import hoomd,imp\n",
    "import hoomd\n",
    "from hoomd import *\n",
    "from hoomd import md\n",
    "import numpy as np\n",
    "import gsd.hoomd\n",
    "import time \n",
    "\n",
    "\n",
    "nrigid = 2\n",
    "boxsize = 10\n",
    "nparticles = 5\n",
    "\n",
    "##----------SETUP----------##\n",
    "context.initialize(\"\")\n",
    "\n",
    "Rig = RigidBodies()\n",
    "SB = SimBox()\n",
    "snapshot = SB.MakeSnap(boxsize,nrigid)\n",
    "system = hoomd.init.read_snapshot(snapshot)\n",
    "Rig.MakeRigid(nrigid)\n",
    "SB.AddParticleTypes(nparticles)"
   ]
  },
  {
   "cell_type": "code",
   "execution_count": 16,
   "metadata": {},
   "outputs": [
    {
     "name": "stdout",
     "output_type": "stream",
     "text": [
      "HOOMD-blue 2.3.1 DOUBLE HPMC_MIXED SSE SSE2 SSE3 \n",
      "Compiled: 06/07/18\n",
      "Copyright 2009-2018 The Regents of the University of Michigan.\n",
      "-----\n",
      "You are using HOOMD-blue. Please cite the following:\n",
      "* J A Anderson, C D Lorenz, and A Travesset. \"General purpose molecular dynamics\n",
      "  simulations fully implemented on graphics processing units\", Journal of\n",
      "  Computational Physics 227 (2008) 5342--5359\n",
      "* J Glaser, T D Nguyen, J A Anderson, P Liu, F Spiga, J A Millan, D C Morse, and\n",
      "  S C Glotzer. \"Strong scaling of general-purpose molecular dynamics simulations\n",
      "  on GPUs\", Computer Physics Communications 192 (2015) 97--107\n",
      "-----\n",
      "HOOMD-blue is running on the CPU\n"
     ]
    },
    {
     "data": {
      "text/plain": [
       "<hoomd._hoomd.SnapshotSystemData_float at 0x1163230a0>"
      ]
     },
     "execution_count": 16,
     "metadata": {},
     "output_type": "execute_result"
    }
   ],
   "source": [
    "import hoomd,imp\n",
    "import hoomd\n",
    "from hoomd import *\n",
    "from hoomd import md\n",
    "import numpy as np\n",
    "import gsd.hoomd\n",
    "import time \n",
    "\n",
    "context.initialize(\"\")\n",
    "\n",
    "SB = SimBox()\n",
    "SB.MakeSnap(10,2)"
   ]
  },
  {
   "cell_type": "code",
   "execution_count": 33,
   "metadata": {},
   "outputs": [],
   "source": [
    "M=[]\n",
    "\n",
    "for Ω in range(5):\n",
    "    M.append('%d'%(Ω+1))"
   ]
  },
  {
   "cell_type": "code",
   "execution_count": 34,
   "metadata": {},
   "outputs": [
    {
     "data": {
      "text/plain": [
       "['1', '2', '3', '4', '5']"
      ]
     },
     "execution_count": 34,
     "metadata": {},
     "output_type": "execute_result"
    }
   ],
   "source": [
    "M"
   ]
  },
  {
   "cell_type": "code",
   "execution_count": 47,
   "metadata": {},
   "outputs": [
    {
     "name": "stdout",
     "output_type": "stream",
     "text": [
      "['V1', 'V2']\n"
     ]
    }
   ],
   "source": [
    "print(snapshot.particles.types)"
   ]
  },
  {
   "cell_type": "code",
   "execution_count": null,
   "metadata": {},
   "outputs": [],
   "source": []
  }
 ],
 "metadata": {
  "kernelspec": {
   "display_name": "Python 3",
   "language": "python",
   "name": "python3"
  },
  "language_info": {
   "codemirror_mode": {
    "name": "ipython",
    "version": 3
   },
   "file_extension": ".py",
   "mimetype": "text/x-python",
   "name": "python",
   "nbconvert_exporter": "python",
   "pygments_lexer": "ipython3",
   "version": "3.6.8"
  }
 },
 "nbformat": 4,
 "nbformat_minor": 2
}
