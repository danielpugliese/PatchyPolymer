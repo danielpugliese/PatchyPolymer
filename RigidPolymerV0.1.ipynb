{
 "cells": [
  {
   "cell_type": "markdown",
   "metadata": {},
   "source": [
    "## See runnable code below. The code in this cell is just for reference, ignore.  "
   ]
  },
  {
   "cell_type": "code",
   "execution_count": 2,
   "metadata": {},
   "outputs": [],
   "source": [
    "# ######Ignore all this code\n",
    "\n",
    "\n",
    "# from __future__ import division\n",
    "# import hoomd\n",
    "# from hoomd import deprecated\n",
    "# from hoomd import md\n",
    "# import gsd.hoomd\n",
    "# #import settings\n",
    "# import random\n",
    "# import numpy as np\n",
    "# import time \n",
    "\n",
    "# #For file naming\n",
    "# t = time.strftime(time.strftime(\"%d %b %H:%M:%S\", time.gmtime()))\n",
    "\n",
    "# #Variables\n",
    "# deg=30\n",
    "# Angle = deg*np.pi/180.\n",
    "# beadr=0.8\n",
    "# patchr=0.4\n",
    "# br_pr=beadr-patchr\n",
    "\n",
    "\n",
    "# def hoomdRun():\n",
    "#     #Calls function to set initial coordinates\n",
    "#     A,B,C = com()\n",
    "#     # σ\n",
    "#     sig = [1.0,1.0,1.0,0.005,1.0,1.0,1.0,0.005]\n",
    "#     # ε\n",
    "#     eps = [0.1,0.1,0.1,0.1,0.1,0.1,0.1,0.1]\n",
    "#     #Cn = rigid center n\n",
    "#     #Pmn = Patch # m at center n \n",
    "#     types = ['2','P11','P21','P12','P22','C1','C2']\n",
    "\n",
    "#     hoomd.context.initialize(\"\")\n",
    "#     rcut =  max(sig)*2.5\n",
    "\n",
    "# def com():\n",
    "#     A = [0,0,0] #coordinates A\n",
    "#     B = [0.7575,0.5865,0] #coordinates B\n",
    "#     C = [1.515,0,0] #coordinates C\n",
    "#     M = [1.0,16.0,1.0] #masses \n",
    "#     TotalM = M[0]+M[1]+M[2] #total mass\n",
    "#     cX = (M[0]*A[0] + M[1]*B[0] + M[2]*C[0])/TotalM #Center Of Mass coord, X\n",
    "#     cY = (M[0]*A[1] + M[1]*B[1] + M[2]*C[1])/TotalM # Y\n",
    "#     cZ = (M[0]*A[2] + M[1]*B[2] + M[2]*C[2])/TotalM # Z\n",
    "#     com = [cX,cY,cZ]\n",
    "#     cXYZ = [[A[0]-cX,A[1]-cY,A[2]-cZ],[B[0]-cX,B[1]-cY,B[2]-cZ],[C[0]-cX,C[1]-cY,C[2]-cZ]] # new coords\n",
    "#     Ixx,Ixy,Ixz,Iyy,Iyz,Izz = 0.0,0.0,0.0,0.0,0.0,0.0\n",
    "#     for i in range(3):\n",
    "#         Ixx += M[i]*(cXYZ[i][1]**2 + cXYZ[i][2]**2)\n",
    "#         Iyy += M[i]*(cXYZ[i][0]**2 + cXYZ[i][2]**2)\n",
    "#         Izz += M[i]*(cXYZ[i][0]**2 + cXYZ[i][1]**2)\n",
    "#         Ixy += -M[i]*cXYZ[i][0]*cXYZ[i][1]\n",
    "#         Ixz += -M[i]*cXYZ[i][0]*cXYZ[i][2]\n",
    "#         Iyz += -M[i]*cXYZ[i][1]*cXYZ[i][2]\n",
    "#         Imatrix = np.matrix([[Ixx,Ixy,Ixz],[Ixy,Iyy,Iyz],[Ixz,Iyz,Izz]])\n",
    "#         Idiag = np.linalg.eig(Imatrix)\n",
    "#         print(Idiag)\n",
    "#         comX = 0-com[0]\n",
    "#     comY = 0-com[1]\n",
    "#     A = [A[0]+comX,A[1]+comY,A[2]]\n",
    "#     B = [B[0]+comX,B[1]+comY,B[2]]\n",
    "#     C = [C[0]+comX,C[1]+comY,C[2]]\n",
    "#     return A,B,C\n",
    "\n",
    "# git add .\n",
    "# git commit -m \"Add existing file\"\n",
    "# git push origin your-branch"
   ]
  },
  {
   "cell_type": "markdown",
   "metadata": {},
   "source": [
    "## The code below will run and can be tested. <br>\n",
    "\n",
    "So far the code will: <br>\n",
    "- Add all particle types in the following order: Rigid, Patches, and Constituent Particles. Can add an arbitrary number of each type. <br>\n",
    "- Will create a snapshot of arbitrary size and number of particles. <br>\n",
    "- Will create, generate positions for, set the moments of, and assign diameters to the rigid bodies. <br>\n",
    "- Makes a list of all the particle types. Will be used for naming and calculating LJ forces. <br>\n",
    "- Constrains the rigid bodies. <br>\n",
    "\n",
    "A detailed list of things left to do is below. \n",
    "      "
   ]
  },
  {
   "cell_type": "code",
   "execution_count": 4,
   "metadata": {},
   "outputs": [],
   "source": [
    "import hoomd,imp\n",
    "import hoomd\n",
    "#from hoomd import *\n",
    "from hoomd import md\n",
    "import numpy as np\n",
    "import gsd.hoomd\n",
    "import time \n",
    "\n",
    "# class Moment:\n",
    "#     ###Goal:\n",
    "#         #Generalize this code so an arbitrary number of patches can have their moments\n",
    "#         #and updated coordinates calculated.\n",
    "#         #Generalize this code so the user can input custom coordinates and moments \n",
    "#     ###To Do:\n",
    "#         #Separate A,B,C out of the function\n",
    "#         #Separate all the cX, cY, cZ, Ixx, etc. terms\n",
    "#         #Make separate functions that will allow the calculations of moments and\n",
    "#         #coordinates for an arbitrary number of patches\n",
    "#     ###Remember:\n",
    "#         #types = system.particles.types\n",
    "#         #The order is:\n",
    "#             #types=[R1,...,Rn,P1,...,Pm,C1,...,Ck] \n",
    "#             #where R is the Rigid type with n rigid bodies (n == nrigid)\n",
    "#             #P is the Patch type with m patches (m == npatch)\n",
    "#             #C is the Constituent particle Type with k particles (k == particles)\n",
    "#     ###With an arbitrary number of patches, the plan is to __init__ each patch with\n",
    "#         #some iterable variable name (hopefully that doesn't break everything).\n",
    "#     ###Or maybe use a dictionary? \n",
    "        \n",
    "#     def __init__(self, coord, mass, name):\n",
    "#         self.coord = coord\n",
    "#         self.mass = mass\n",
    "#         self.name = name\n",
    "        \n",
    "        \n",
    "#     def Coord(self):\n",
    "#         return self.coord\n",
    "    \n",
    "#     def Mass(self):\n",
    "#         return self.mass\n",
    "    \n",
    "#     def name(self):\n",
    "        \n",
    "        \n",
    "    \n",
    "    \n",
    "#     ###This code is used as a reference and can be ignored.     \n",
    "#     def com(self):\n",
    "#         A = [0,0,0] #coordinates A\n",
    "#         B = [0.7575,0.5865,0] #coordinates B\n",
    "#         C = [1.515,0,0] #coordinates C\n",
    "#         M = [1.0,16.0,1.0] #masses \n",
    "#         TotalM = M[0]+M[1]+M[2] #total mass\n",
    "#         #CoM/com = center of mass for rigid center\n",
    "#         cX = (M[0]*A[0] + M[1]*B[0] + M[2]*C[0])/TotalM #CoM coord, X\n",
    "#         cY = (M[0]*A[1] + M[1]*B[1] + M[2]*C[1])/TotalM #CoM coord, Y\n",
    "#         cZ = (M[0]*A[2] + M[1]*B[2] + M[2]*C[2])/TotalM #CoM coord, Z\n",
    "#         com = [cX,cY,cZ]\n",
    "#         cXYZ = [[A[0]-cX,A[1]-cY,A[2]-cZ],[B[0]-cX,B[1]-cY,B[2]-cZ],[C[0]-cX,C[1]-cY,C[2]-cZ]] # new coords\n",
    "#         Ixx,Ixy,Ixz,Iyy,Iyz,Izz = 0.0,0.0,0.0,0.0,0.0,0.0\n",
    "#         for i in range(3):\n",
    "#             Ixx += M[i]*(cXYZ[i][1]**2 + cXYZ[i][2]**2)\n",
    "#             Iyy += M[i]*(cXYZ[i][0]**2 + cXYZ[i][2]**2)\n",
    "#             Izz += M[i]*(cXYZ[i][0]**2 + cXYZ[i][1]**2)\n",
    "#             Ixy += -M[i]*cXYZ[i][0]*cXYZ[i][1]\n",
    "#             Ixz += -M[i]*cXYZ[i][0]*cXYZ[i][2]\n",
    "#             Iyz += -M[i]*cXYZ[i][1]*cXYZ[i][2]\n",
    "#             Imatrix = np.matrix([[Ixx,Ixy,Ixz],[Ixy,Iyy,Iyz],[Ixz,Iyz,Izz]])\n",
    "#             Idiag = np.linalg.eig(Imatrix)\n",
    "#             print(Idiag)\n",
    "#             comX = 0-com[0]\n",
    "#             comY = 0-com[1]\n",
    "#         A = [A[0]+comX,A[1]+comY,A[2]]\n",
    "#         B = [B[0]+comX,B[1]+comY,B[2]]\n",
    "#         C = [C[0]+comX,C[1]+comY,C[2]]\n",
    "#         return A,B,C\n",
    "\n",
    "##Define system before calling any function in RigidBodies\n",
    "##system=hoomd.init.read_snapshot(MakeSnap(boxsize, nparticles))\n",
    "class RigidBodies:\n",
    "    #To Do:\n",
    "        #G̶e̶n̶e̶r̶a̶t̶e̶ ̶R̶i̶g̶i̶d̶ ̶P̶a̶r̶t̶i̶c̶l̶e̶ ̶T̶y̶p̶e̶s̶ ̶f̶o̶r̶ ̶U̶s̶e̶ ̶i̶n̶ ̶S̶n̶a̶p̶s̶h̶o̶t̶ Done\n",
    "        #Allow custom coordinates for rigid bodies\n",
    "    def MakeRigid(self, nrigid, diam=None):\n",
    "        if diam==None:\n",
    "            for i in range(nrigid):\n",
    "                system.particles.get(i).position=[0+i,0,0]\n",
    "                system.particles.get(i).moment_inertia=[0.611524, 1.1476125, 1.7591365]\n",
    "                system.particles.get(i).diameter=1\n",
    "        else:\n",
    "            for i in range(nrigid):\n",
    "                system.particles.get(i).position=[0+i,0,0]\n",
    "                system.particles.get(i).moment_inertia=[0.611524, 1.1476125, 1.7591365]\n",
    "                system.particles.get(i).diameter=diam  \n",
    "                \n",
    "                \n",
    "    #Generates the types for the rigid bodies\n",
    "    def GenRigid(self, nrigid):\n",
    "        rigid_types=[]\n",
    "        for i in range(nrigid):\n",
    "            counter=i+1\n",
    "            rigid_types.append('R%d'%counter)\n",
    "        return rigid_types\n",
    "    \n",
    "    ##Declare rigid=hoomd.md.constrain.rigid() before calling this function!\n",
    "    ##This Sets the rigid_param for each rigid body\n",
    "#     def RigidParam(self, patch_positions, patch_diam, npatch):\n",
    "#         rigid_types=self.GenRigid(nrigid)\n",
    "#         for i in range(len(rigid_types)):\n",
    "#             rigid.set_param(\"'%s'\"%rigid_types[i],\n",
    "#                             positions=patch_positions, \n",
    "#                             types=#'<insert list here>',\n",
    "#                             diameters=#diameter list\n",
    "#                            )\n",
    "\n",
    "    \n",
    "    \n",
    "    \n",
    "class Polymer:\n",
    "    ###To Do:\n",
    "        #Add particles\n",
    "            #Make each particle have unique variable\n",
    "                #e.g. x1 = system.particles.add('1')\n",
    "                #...\n",
    "                #     xk = system.particles.add('k') \n",
    "                #where k == nparticles\n",
    "        #set up harmonic bonds\n",
    "            #user input for k and r0\n",
    "        #Define the bonds between particles\n",
    "            #just have it be linear with rigids on either end at first\n",
    "        \n",
    "    pass\n",
    "\n",
    "\n",
    "#To Do: SimBox\n",
    "#A̶d̶d̶ ̶P̶a̶r̶t̶i̶c̶l̶e̶ ̶t̶y̶p̶e̶s̶ Done\n",
    "#Add Patches\n",
    "    #Allow angle of patches\n",
    "    #A̶l̶l̶o̶w̶ ̶n̶u̶m̶b̶e̶r̶ ̶o̶f̶ ̶p̶a̶t̶c̶h̶e̶s̶ Done  \n",
    "class SimBox:\n",
    "    \n",
    "    ###Creates Initial Snapshot\n",
    "    def MakeSnap(self, boxsize, nrigid): \n",
    "        RB=RigidBodies()\n",
    "        snapshot=hoomd.data.make_snapshot(N=nrigid,box=hoomd.data.boxdim(L=boxsize),\n",
    "                                          bond_types=['tether'],particle_types=RB.GenRigid(nrigid))\n",
    "        return snapshot\n",
    "    \n",
    "    ###Adds Particle Types Based on Specified Number of Constituent Particles\n",
    "    ###Adds Patch Types\n",
    "    ###!!!!!DO NOT CHANGE ORDER!!!!!###\n",
    "    def AddParticleTypes(self, npatch, nparticles):\n",
    "        counter=0\n",
    "        for k in range(npatch):\n",
    "            counter=k+1\n",
    "            system.particles.types.add('P%d'%counter)\n",
    "            #Debugging Stuff\n",
    "            #print(counter) \n",
    "        #Adds particle types, assigning the typeid as an arbitrary number.\n",
    "        for i in range(nparticles):\n",
    "            counter=i+1\n",
    "            system.particles.types.add('%d'%counter)\n",
    "            #print(counter) #Debugging\n",
    "    def PatchTypes(nrigid, npatch):\n",
    "        PT = []\n",
    "        for i in range(npatch):\n",
    "            PT.append(system.particles.types[nrigid+i])\n",
    "        return PT\n",
    "    "
   ]
  },
  {
   "cell_type": "code",
   "execution_count": 40,
   "metadata": {},
   "outputs": [
    {
     "name": "stdout",
     "output_type": "stream",
     "text": [
      "notice(2): Group \"all\" created containing 2 particles\n",
      "Particle types: ['R1', 'R2', 'P1', 'P2', '1', '2', '3', '4', '5']\n"
     ]
    }
   ],
   "source": [
    "import hoomd,imp\n",
    "import hoomd\n",
    "from hoomd import *\n",
    "from hoomd import md\n",
    "import numpy as np\n",
    "import gsd.hoomd\n",
    "import time \n",
    "\n",
    "#Number of rigid bodies\n",
    "nrigid = 2\n",
    "#Box Size\n",
    "boxsize = 10\n",
    "#Number of constituent particles\n",
    "nparticles = 5\n",
    "#Number of Patches\n",
    "npatch=2\n",
    "##----------SETUP----------##\n",
    "context.initialize(\"\")\n",
    "\n",
    "#CallClasses\n",
    "Rig = RigidBodies()\n",
    "SB = SimBox()\n",
    "\n",
    "\n",
    "#Makes initial snapshot\n",
    "snapshot = SB.MakeSnap(boxsize,nrigid)\n",
    "\n",
    "#Initializes System\n",
    "system = hoomd.init.read_snapshot(snapshot)\n",
    "\n",
    "#Creates Rigid Bodies\n",
    "Rig.MakeRigid(nrigid)\n",
    "\n",
    "#Adds rigid bodies to particle types. Will eventually merge with function AddParticleTypes.\n",
    "Rig.GenRigid(nrigid)\n",
    "\n",
    "#Adds particle types based on the total number of constituent particles specified\n",
    "SB.AddParticleTypes(npatch, nparticles)\n",
    "\n",
    "#Makes a list for the types of particles. This will be used for naming various things. \n",
    "types = system.particles.types\n",
    "\n",
    "print(system.particles.types) #Debugging \n",
    "\n",
    "rigid=hoomd.md.constrain.rigid()"
   ]
  },
  {
   "cell_type": "markdown",
   "metadata": {},
   "source": [
    "## The code below is a work in progress and will not run.\n",
    "\n",
    "__To Do List:__<br>\n",
    "\n",
    "- Generalize the Moment code to: \n",
    "    1. Accept an arbitrary number of patches. <br>\n",
    "    2. Calculate the moments and update the coordinates for an arbitrary number of   patches. <br>\n",
    "    3. Give each patch a unique variable name for its position. <br>\n",
    "    4. Figure out if __\\_init__\\_ or dic() is better to use with and/or for generated variable names. <br>\n",
    "<br>\n",
    "- Write code to define the sigma, epsilon, and diameter values for the particles. Work on making all these values a user input later.<br>\n",
    "- After the Moment code is done, finalize the RigidParam function in the RigidBodies class so multiple rigis bodies can be defined and later grouped. <br>\n",
    "- Write the polymer generation code to:\n",
    "    1. Create as many contituent particles as specified by the user.<br>\n",
    "    2. Generate a unique variable name for each constituent particle (see comments). <br>\n",
    "    3. Create the bonds between constituent particles. <br>\n",
    "    4. Create the bonds between the rigid bodies and the constituent particles. For now it will be a linear chain with rigid bodies on either end, will add user defined positions for rigid centers later. <br> \n",
    "- Write code for LJ interactions. <br>\n",
    "- Set up integrators, gsd & log dumps, and run. <br>\n",
    "- Make the placement of rigid bodies a user input. <br>\n",
    "<br>\n",
    "- After all of that is done, make the angle of the patches a user input. "
   ]
  },
  {
   "cell_type": "code",
   "execution_count": 41,
   "metadata": {},
   "outputs": [],
   "source": [
    "import hoomd,imp\n",
    "import hoomd\n",
    "#from hoomd import *\n",
    "from hoomd import md\n",
    "import numpy as np\n",
    "import gsd.hoomd\n",
    "import time \n",
    "\n",
    "class Moment:\n",
    "    pass\n",
    "    ###Goal:\n",
    "        #Generalize this code so an arbitrary number of patches can have their moments\n",
    "        #and updated coordinates calculated.\n",
    "        #Generalize this code so the user can input custom coordinates and moments \n",
    "    ###To Do:\n",
    "        #Separate A,B,C out of the function\n",
    "        #Separate all the cX, cY, cZ, Ixx, etc. terms\n",
    "        #Make separate functions that will allow the calculations of moments and\n",
    "        #coordinates for an arbitrary number of patches\n",
    "    ###Remember:\n",
    "        #types = system.particles.types\n",
    "        #The order is:\n",
    "            #types=[R1,...,Rn,P1,...,Pm,C1,...,Ck] \n",
    "            #where R is the Rigid type with n rigid bodies (n == nrigid)\n",
    "            #P is the Patch type with m patches (m == npatch)\n",
    "            #C is the Constituent particle Type with k particles (k == particles)\n",
    "    ###With an arbitrary number of patches, the plan is to __init__ each patch with\n",
    "        #some iterable variable name (hopefully that doesn't break everything).\n",
    "    ###Or maybe use a dictionary? \n",
    "        \n",
    "#     def __init__(self, coord, mass, name):\n",
    "#         self.coord = coord\n",
    "#         self.mass = mass\n",
    "#         self.name = name\n",
    "        \n",
    "        \n",
    "#     def Coord(self):\n",
    "#         return self.coord\n",
    "    \n",
    "#     def Mass(self):\n",
    "#         return self.mass\n",
    "    \n",
    "#     def name(self):\n",
    "        \n",
    "        \n",
    "    \n",
    "    \n",
    "    ###This code is used as a reference and can be ignored.     \n",
    "#     def com(self):\n",
    "#         A = [0,0,0] #coordinates A\n",
    "#         B = [0.7575,0.5865,0] #coordinates B\n",
    "#         C = [1.515,0,0] #coordinates C\n",
    "#         M = [1.0,16.0,1.0] #masses \n",
    "#         TotalM = M[0]+M[1]+M[2] #total mass\n",
    "#         #CoM/com = center of mass for rigid center\n",
    "#         cX = (M[0]*A[0] + M[1]*B[0] + M[2]*C[0])/TotalM #CoM coord, X\n",
    "#         cY = (M[0]*A[1] + M[1]*B[1] + M[2]*C[1])/TotalM #CoM coord, Y\n",
    "#         cZ = (M[0]*A[2] + M[1]*B[2] + M[2]*C[2])/TotalM #CoM coord, Z\n",
    "#         com = [cX,cY,cZ]\n",
    "#         cXYZ = [[A[0]-cX,A[1]-cY,A[2]-cZ],[B[0]-cX,B[1]-cY,B[2]-cZ],[C[0]-cX,C[1]-cY,C[2]-cZ]] # new coords\n",
    "#         Ixx,Ixy,Ixz,Iyy,Iyz,Izz = 0.0,0.0,0.0,0.0,0.0,0.0\n",
    "#         for i in range(3):\n",
    "#             Ixx += M[i]*(cXYZ[i][1]**2 + cXYZ[i][2]**2)\n",
    "#             Iyy += M[i]*(cXYZ[i][0]**2 + cXYZ[i][2]**2)\n",
    "#             Izz += M[i]*(cXYZ[i][0]**2 + cXYZ[i][1]**2)\n",
    "#             Ixy += -M[i]*cXYZ[i][0]*cXYZ[i][1]\n",
    "#             Ixz += -M[i]*cXYZ[i][0]*cXYZ[i][2]\n",
    "#             Iyz += -M[i]*cXYZ[i][1]*cXYZ[i][2]\n",
    "#             Imatrix = np.matrix([[Ixx,Ixy,Ixz],[Ixy,Iyy,Iyz],[Ixz,Iyz,Izz]])\n",
    "#             Idiag = np.linalg.eig(Imatrix)\n",
    "#             print(Idiag)\n",
    "#             comX = 0-com[0]\n",
    "#             comY = 0-com[1]\n",
    "#         A = [A[0]+comX,A[1]+comY,A[2]]\n",
    "#         B = [B[0]+comX,B[1]+comY,B[2]]\n",
    "#         C = [C[0]+comX,C[1]+comY,C[2]]\n",
    "#         return A,B,C\n",
    "\n",
    "##Goes before function is called\n",
    "##system=hoomd.init.read_snapshot(MakeSnap(boxsize, nparticles))\n",
    "class RigidBodies:\n",
    "    #To Do:\n",
    "        #Generate Rigid Particle Types for Use in Snapshot\n",
    "        #Allow custom coordinates for rigid bodies\n",
    "    def MakeRigid(self, nrigid, rdiam=None):\n",
    "        if rdiam==None:\n",
    "            for i in range(nrigid):\n",
    "                system.particles.get(i).position=[0+i,0,0]\n",
    "                system.particles.get(i).moment_inertia=[0.611524, 1.1476125, 1.7591365]\n",
    "                system.particles.get(i).diameter=1\n",
    "        else:\n",
    "            rdiam = 1\n",
    "            for i in range(nrigid):\n",
    "                system.particles.get(i).position=[0+i,0,0]\n",
    "                system.particles.get(i).moment_inertia=[0.611524, 1.1476125, 1.7591365]\n",
    "                system.particles.get(i).diameter=rdiam  \n",
    "                \n",
    "#     def PatchPositions(self, nrigid, npatch, angle, rdiam, pdiam):\n",
    "#         rad = angle*np.pi/180.\n",
    "#         sb = SimBox()\n",
    "#         patch_coord = []\n",
    "#         r_p = rdiam-pdiam\n",
    "#         for i in range(nrigid):\n",
    "#             rigpos = system.particles[i].position\n",
    "#             rigdiam = system.particles[i].diameter\n",
    "#             for j in range(npatch):\n",
    "#                 patch_coord.append([\n",
    "#                     (rigpos[0]+r_p)*np.cos(rad+rad*j), \n",
    "#                     (rigpos[1]+r_p)*np.sin(rad+rad*j), \n",
    "#                     (rigpos[2])\n",
    "#                                     ])\n",
    "#         return patch_coord\n",
    "    \n",
    "    def PatchPositions(self, nrigid, npatch, angle, rdiam, pdiam):\n",
    "        rad = angle*np.pi/180.\n",
    "        sb = SimBox()\n",
    "        patch_coord = []\n",
    "        r_p = rdiam-pdiam\n",
    "        for i in range(nrigid):\n",
    "            rigpos = system.particles[i].position\n",
    "            rigdiam = system.particles[i].diameter\n",
    "            for j in range(npatch):\n",
    "                patch_coord.append([\n",
    "                    (rigpos[0]+r_p)*np.cos(rad+rad*j), \n",
    "                    (rigpos[1]+r_p)*np.sin(rad+rad*j), \n",
    "                    (rigpos[2])\n",
    "                                    ])\n",
    "        return patch_coord\n",
    "    #Generates the types for the rigid bodies\n",
    "    def GenRigid(self, nrigid):\n",
    "        rigid_types=[]\n",
    "        for i in range(nrigid):\n",
    "            counter=i+1\n",
    "            rigid_types.append('R%d'%counter)\n",
    "        return rigid_types\n",
    "    \n",
    "    ##Declare rigid=hoomd.md.constrain.rigid() before calling this function!\n",
    "    ##This Sets the rigid_param for each rigid body\n",
    "    def RigidParam(self, patch_positions, patch_types, npatch):\n",
    "        rigid_types=self.GenRigid(nrigid)\n",
    "        for i in range(len(rigid_types)):\n",
    "            rigid.set_param(\"%s\"%rigid_types[i],\n",
    "                            positions=patch_positions, \n",
    "                            types=patch_types,\n",
    "                            #diameters=#diameter list\n",
    "                           )\n",
    "\n",
    "    \n",
    "\n",
    "class Polymer:\n",
    "    pass\n",
    "    ###To Do:\n",
    "        #Add particles\n",
    "            #Make each particle have unique variable\n",
    "                #e.g. x1 = system.particles.add('1')\n",
    "                #...\n",
    "                #     xk = system.particles.add('k') \n",
    "                #where k == nparticles\n",
    "        #set up harmonic bonds\n",
    "            #user input for k and r0\n",
    "        #Define the bonds between particles\n",
    "            #just have it be linear with rigids on either end at first\n",
    "    def AddConstituentParticles(self, nparticles):\n",
    "pass\n",
    "\n",
    "\n",
    " \n",
    "class SimBox:\n",
    "    \n",
    "    ###Creates Initial Snapshot\n",
    "    def MakeSnap(self, boxsize, nrigid): \n",
    "        RB=RigidBodies()\n",
    "        snapshot=hoomd.data.make_snapshot(N=nrigid,box=hoomd.data.boxdim(L=boxsize),\n",
    "                                          bond_types=['tether'],particle_types=RB.GenRigid(nrigid))\n",
    "        return snapshot\n",
    "    \n",
    "    ###Adds Particle Types Based on Specified Number of Constituent Particles\n",
    "    ###Adds Patch Types\n",
    "    ###!!!!!DO NOT CHANGE ORDER!!!!!###\n",
    "    #######!!!!!!!!!!!!!!!!!#########\n",
    "    #######npatch*nrigid is debugging so the patch tag list equals the number of patches######\n",
    "    def AddParticleTypes(self, npatch, nparticles):\n",
    "        counter=0\n",
    "        for k in range(npatch*nrigid):\n",
    "            counter=k+1\n",
    "            system.particles.types.add('P%d'%counter)\n",
    "            #Debugging Stuff\n",
    "            #print(counter) \n",
    "        #Adds particle types, assigning the typeid as an arbitrary number.\n",
    "        for i in range(nparticles):\n",
    "            counter=i+1\n",
    "            system.particles.types.add('%d'%counter)\n",
    "            #print(counter) #Debugging\n",
    "            \n",
    "            \n",
    "    #######!!!!!!!!!!!!!!!!!#########\n",
    "    #######npatch*nrigid is debugging so the patch tag list equals the number of patches######\n",
    "    def PatchTypes(self, nrigid, npatch):\n",
    "        patch_types = []\n",
    "        for i in range(npatch*nrigid):\n",
    "            patch_types.append(system.particles.types[nrigid+i])\n",
    "        return patch_types\n",
    "    \n",
    "   \n",
    "    def ptags(self, nrigid, npatch, nparticles):\n",
    "        x = nrigid + npatch + nparticles\n",
    "        return np.linspace(0,x-1,x)\n",
    "        \n",
    "\n",
    "        \n",
    "        \n",
    "        "
   ]
  },
  {
   "cell_type": "code",
   "execution_count": 42,
   "metadata": {},
   "outputs": [
    {
     "name": "stdout",
     "output_type": "stream",
     "text": [
      "notice(2): Group \"all\" created containing 2 particles\n",
      "Particle types: ['R1', 'R2', 'P1', 'P2', 'P3', 'P4', '1', '2', '3', '4', '5']\n"
     ]
    }
   ],
   "source": [
    "import hoomd,imp\n",
    "import hoomd\n",
    "from hoomd import *\n",
    "from hoomd import md\n",
    "import numpy as np\n",
    "import gsd.hoomd\n",
    "import time \n",
    "\n",
    "#Number of rigid bodies\n",
    "nrigid = 2\n",
    "#Box Size\n",
    "boxsize = 10\n",
    "#Number of constituent particles\n",
    "nparticles = 5\n",
    "#Number of Patches per Rigid Body\n",
    "npatch=2\n",
    "#Rigid Diameter\n",
    "rdiam = 1\n",
    "#Patch Diameter\n",
    "pdiam = 0.5\n",
    "#Angle of patches\n",
    "angle = 30\n",
    "##----------SETUP----------##\n",
    "context.initialize(\"\")\n",
    "\n",
    "#CallClasses\n",
    "Rig = RigidBodies()\n",
    "SB = SimBox()\n",
    "\n",
    "\n",
    "#Makes initial snapshot\n",
    "snapshot = SB.MakeSnap(boxsize,nrigid)\n",
    "\n",
    "#Initializes System\n",
    "system = hoomd.init.read_snapshot(snapshot)\n",
    "\n",
    "#Creates Rigid Bodies\n",
    "Rig.MakeRigid(nrigid, rdiam)\n",
    "\n",
    "Rig.GenRigid(nrigid)\n",
    "#Adds particle types based on the total number of constituent particles specified\n",
    "SB.AddParticleTypes(npatch, nparticles)\n",
    "\n",
    "#Makes a list for the types of particles. This will be used for naming various things. \n",
    "types = system.particles.types\n",
    "\n",
    "print(system.particles.types) #Debugging \n",
    "\n",
    "###PatchPositions(self, nrigid, npatch, angle, rdiam, pdiam)\n",
    "\n",
    "\n",
    "rigid=hoomd.md.constrain.rigid()\n",
    "patch_types = SB.PatchTypes(nrigid, npatch)\n",
    "patch_positions = Rig.PatchPositions(nrigid, npatch, angle, rdiam, pdiam)\n",
    "Rig.RigidParam(patch_positions, patch_types, npatch)"
   ]
  },
  {
   "cell_type": "code",
   "execution_count": 43,
   "metadata": {},
   "outputs": [
    {
     "name": "stdout",
     "output_type": "stream",
     "text": [
      "['P1', 'P2', 'P3', 'P4']\n"
     ]
    }
   ],
   "source": [
    "print(patch_types)"
   ]
  },
  {
   "cell_type": "code",
   "execution_count": 44,
   "metadata": {},
   "outputs": [
    {
     "name": "stdout",
     "output_type": "stream",
     "text": [
      "[0.43301270189221935, 0.24999999999999997, 0.0]\n"
     ]
    }
   ],
   "source": [
    "print(patch_positions[0])"
   ]
  },
  {
   "cell_type": "code",
   "execution_count": 31,
   "metadata": {},
   "outputs": [
    {
     "name": "stdout",
     "output_type": "stream",
     "text": [
      "[0. 1. 2. 3. 4. 5. 6. 7. 8.]\n"
     ]
    }
   ],
   "source": [
    "print(SB.ptags(nrigid, npatch, nparticles))"
   ]
  },
  {
   "cell_type": "markdown",
   "metadata": {},
   "source": [
    "## All code below this cell is just me experimenting with/ testing code before implementing it. Don't worry if it's wrong or makes no sense."
   ]
  },
  {
   "cell_type": "code",
   "execution_count": 16,
   "metadata": {},
   "outputs": [
    {
     "name": "stdout",
     "output_type": "stream",
     "text": [
      "HOOMD-blue 2.3.1 DOUBLE HPMC_MIXED SSE SSE2 SSE3 \n",
      "Compiled: 06/07/18\n",
      "Copyright 2009-2018 The Regents of the University of Michigan.\n",
      "-----\n",
      "You are using HOOMD-blue. Please cite the following:\n",
      "* J A Anderson, C D Lorenz, and A Travesset. \"General purpose molecular dynamics\n",
      "  simulations fully implemented on graphics processing units\", Journal of\n",
      "  Computational Physics 227 (2008) 5342--5359\n",
      "* J Glaser, T D Nguyen, J A Anderson, P Liu, F Spiga, J A Millan, D C Morse, and\n",
      "  S C Glotzer. \"Strong scaling of general-purpose molecular dynamics simulations\n",
      "  on GPUs\", Computer Physics Communications 192 (2015) 97--107\n",
      "-----\n",
      "HOOMD-blue is running on the CPU\n"
     ]
    },
    {
     "data": {
      "text/plain": [
       "<hoomd._hoomd.SnapshotSystemData_float at 0x1163230a0>"
      ]
     },
     "execution_count": 16,
     "metadata": {},
     "output_type": "execute_result"
    }
   ],
   "source": [
    "import hoomd,imp\n",
    "import hoomd\n",
    "from hoomd import *\n",
    "from hoomd import md\n",
    "import numpy as np\n",
    "import gsd.hoomd\n",
    "import time \n",
    "\n",
    "context.initialize(\"\")\n",
    "\n",
    "SB = SimBox()\n",
    "SB.MakeSnap(10,2)"
   ]
  },
  {
   "cell_type": "code",
   "execution_count": 33,
   "metadata": {},
   "outputs": [],
   "source": [
    "M=[]\n",
    "\n",
    "for Ω in range(5):\n",
    "    M.append('%d'%(Ω+1))"
   ]
  },
  {
   "cell_type": "code",
   "execution_count": 18,
   "metadata": {},
   "outputs": [
    {
     "data": {
      "text/plain": [
       "(0.0, 0.0, 0.0)"
      ]
     },
     "execution_count": 18,
     "metadata": {},
     "output_type": "execute_result"
    }
   ],
   "source": [
    "system.particles[0].position"
   ]
  },
  {
   "cell_type": "code",
   "execution_count": 47,
   "metadata": {},
   "outputs": [
    {
     "name": "stdout",
     "output_type": "stream",
     "text": [
      "['V1', 'V2']\n"
     ]
    }
   ],
   "source": [
    "print(snapshot.particles.types)"
   ]
  },
  {
   "cell_type": "code",
   "execution_count": 16,
   "metadata": {},
   "outputs": [
    {
     "name": "stdout",
     "output_type": "stream",
     "text": [
      "Particle types: ['R1', 'R2', 'P1', 'P2']\n"
     ]
    }
   ],
   "source": [
    "print(system.particles.types)"
   ]
  },
  {
   "cell_type": "code",
   "execution_count": 10,
   "metadata": {},
   "outputs": [
    {
     "data": {
      "text/plain": [
       "'V2'"
      ]
     },
     "execution_count": 10,
     "metadata": {},
     "output_type": "execute_result"
    }
   ],
   "source": [
    "system.particles.types[1]"
   ]
  },
  {
   "cell_type": "code",
   "execution_count": 10,
   "metadata": {},
   "outputs": [],
   "source": [
    "types = system.particles.types"
   ]
  },
  {
   "cell_type": "code",
   "execution_count": 12,
   "metadata": {},
   "outputs": [
    {
     "data": {
      "text/plain": [
       "'V1'"
      ]
     },
     "execution_count": 12,
     "metadata": {},
     "output_type": "execute_result"
    }
   ],
   "source": [
    "types[0]"
   ]
  },
  {
   "cell_type": "code",
   "execution_count": 35,
   "metadata": {},
   "outputs": [
    {
     "name": "stdout",
     "output_type": "stream",
     "text": [
      "R1\n",
      "R2\n",
      "R3\n",
      "'R2'\n"
     ]
    }
   ],
   "source": [
    "RB=RigidBodies()\n",
    "Q = RB.GenRigid(3)\n",
    "for i in range(len(Q)):\n",
    "    print('%s'%Q[i])\n",
    "print(\"'%s'\"%Q[1])"
   ]
  },
  {
   "cell_type": "code",
   "execution_count": 27,
   "metadata": {},
   "outputs": [
    {
     "data": {
      "text/plain": [
       "'R2'"
      ]
     },
     "execution_count": 27,
     "metadata": {},
     "output_type": "execute_result"
    }
   ],
   "source": [
    "Q[1]"
   ]
  },
  {
   "cell_type": "code",
   "execution_count": 29,
   "metadata": {},
   "outputs": [
    {
     "name": "stdout",
     "output_type": "stream",
     "text": [
      "R1\n",
      "R2\n"
     ]
    }
   ],
   "source": [
    "rigid=hoomd.md.constrain.rigid()\n",
    "rigid_types=RB.GenRigid(nrigid)\n",
    "for i in range(len(rigid_types)):\n",
    "    print(Q[i])"
   ]
  },
  {
   "cell_type": "code",
   "execution_count": null,
   "metadata": {},
   "outputs": [],
   "source": []
  }
 ],
 "metadata": {
  "kernelspec": {
   "display_name": "Python 3",
   "language": "python",
   "name": "python3"
  },
  "language_info": {
   "codemirror_mode": {
    "name": "ipython",
    "version": 3
   },
   "file_extension": ".py",
   "mimetype": "text/x-python",
   "name": "python",
   "nbconvert_exporter": "python",
   "pygments_lexer": "ipython3",
   "version": "3.6.8"
  }
 },
 "nbformat": 4,
 "nbformat_minor": 2
}
