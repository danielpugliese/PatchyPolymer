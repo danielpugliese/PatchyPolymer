{
 "cells": [
  {
   "cell_type": "markdown",
   "metadata": {},
   "source": [
    "## The code below is a work in progress but will now run for a single step.\n",
    "\n",
    "So far the code will: <br>\n",
    "- Add all particle types in the following order: Rigid, Patches, and Constituent Particles. Can add an arbitrary number of each type. <br>\n",
    "- Will create a snapshot of arbitrary size and number of particles. <br>\n",
    "- Will create, generate positions for, set the moments of, and assign diameters to the rigid bodies. <br>\n",
    "- Makes a list of all the particle types. Will be used for naming and calculating LJ forces. <br>\n",
    "- Constrains the rigid bodies. <br>\n",
    "- Adds constituent particles to the system.<br>\n",
    "- Sets the coordinates for the patches. <br>\n",
    "- Creates all the bonds (needs work).<br>\n",
    "- Groups particles.\n",
    "- Calculates the LJ interactions (might be broken).<br>\n",
    "- Will run for one time step and create one frame for the gsd file before crashing.<br>\n",
    "\n",
    "A detailed list of things left to do is below. \n",
    "      \n",
    "\n",
    "__To Do List:__<br>\n",
    "\n",
    "- Generalize the Moment code to: \n",
    "    1. Accept an arbitrary number of patches. <br>\n",
    "    2. Calculate the moments and update the coordinates for an arbitrary number of   patches. <br>\n",
    "    3. Integrate the moment code into the RigidParam funtion.<br>\n",
    "<br>\n",
    "- Write code to define the sigma, epsilon, and diameter values for the particles. Work on making all these values a user input later.<br>\n",
    "- Work on and finish the code for the moments and integrate it into the RigidParam function. <br>\n",
    "- Write the polymer generation code to:\n",
    "    1. Fix possible issue with generated bonds. <br> \n",
    "    2. Generate constituent particle coordinates in a way that doesn't break the sim.<br>\n",
    "- Write better code for LJ interactions. <br>\n",
    "- Make the placement of rigid bodies a user input. <br>\n",
    "- Write code to make debugging easier. <br>\n",
    "- Figure out how to assign an arbitraty number of patches to each rigid body. <br>\n",
    "<br>\n",
    "\n",
    "\n",
    "__What's been done so far:__<br>\n",
    "- Cleaned up some of the comments in the code.<br>\n",
    "- An arbitrary number of constituent particles can be added now.<br>\n",
    "- Bonds between constituent particles have been made.<br>\n",
    "- Bonds between constituent particles and rigid bodies have been made.<br>\n",
    "- The coordinates for the patchy particles have been made.<br>\n",
    "- The angle of the patches is now a user input.<br>\n",
    "- Rigid body groups have been made.\n",
    "- Placeholders for the sigma end epsilon vales have been made.<br>\n",
    "- Some debugging code had been written. <br>\n",
    "- The simulation will now run and create a single frame for the gsd file.<br>\n",
    "<br>\n",
    "\n",
    "__Bugs/ Problems:__<br>\n",
    "- Simulation crashes after first step, I get the following error:<br>\n",
    "    \\*\\**ERROR***: Particle with unique tag 14 has NaN for its position.<br>\n",
    "    This is probably from how I generated the coordinates for the particles and will be worked on. <br>\n",
    "- The bonds in the gsd file look like a mess, going to work on fixing/ debugging them. <br>\n",
    "- \"from hoomd import \\*\" no longer works because it only works on the \"module level.\" This has happened before and will probably magically fix itself (before I can figure out what's causing the problem) like it usually does.<br>  \n",
    "- "
   ]
  },
  {
   "cell_type": "code",
   "execution_count": 84,
   "metadata": {},
   "outputs": [],
   "source": [
    "import hoomd,imp\n",
    "import hoomd\n",
    "#from hoomd import *\n",
    "from hoomd import md\n",
    "import numpy as np\n",
    "import gsd.hoomd\n",
    "import time \n",
    "\n",
    "class Moment:\n",
    "    pass\n",
    "    ###Goal:\n",
    "        #Generalize this code so an arbitrary number of patches can have their moments\n",
    "        #and updated coordinates calculated.\n",
    "        #Generalize this code so the user can input custom coordinates and moments \n",
    "    ###To Do:\n",
    "        #Separate A,B,C out of the function\n",
    "        #Separate all the cX, cY, cZ, Ixx, etc. terms\n",
    "        #Make separate functions that will allow the calculations of moments and\n",
    "        #coordinates for an arbitrary number of patches\n",
    "    ###Remember:\n",
    "        #types = system.particles.types\n",
    "        #The order is:\n",
    "            #types=[R1,...,Rn,P1,...,Pm,C1,...,Ck] \n",
    "            #where R is the Rigid type with n rigid bodies (n == nrigid)\n",
    "            #P is the Patch type with m patches (m == npatch)\n",
    "            #C is the Constituent particle Type with k particles (k == particles)\n",
    "           \n",
    "    ###This code is used as a reference and can be ignored.     \n",
    "#     def com(self):\n",
    "#         A = [0,0,0] #coordinates A\n",
    "#         B = [0.7575,0.5865,0] #coordinates B\n",
    "#         C = [1.515,0,0] #coordinates C\n",
    "#         M = [1.0,16.0,1.0] #masses \n",
    "#         TotalM = M[0]+M[1]+M[2] #total mass\n",
    "#         #CoM/com = center of mass for rigid center\n",
    "#         cX = (M[0]*A[0] + M[1]*B[0] + M[2]*C[0])/TotalM #CoM coord, X\n",
    "#         cY = (M[0]*A[1] + M[1]*B[1] + M[2]*C[1])/TotalM #CoM coord, Y\n",
    "#         cZ = (M[0]*A[2] + M[1]*B[2] + M[2]*C[2])/TotalM #CoM coord, Z\n",
    "#         com = [cX,cY,cZ]\n",
    "#         cXYZ = [[A[0]-cX,A[1]-cY,A[2]-cZ],[B[0]-cX,B[1]-cY,B[2]-cZ],[C[0]-cX,C[1]-cY,C[2]-cZ]] # new coords\n",
    "#         Ixx,Ixy,Ixz,Iyy,Iyz,Izz = 0.0,0.0,0.0,0.0,0.0,0.0\n",
    "#         for i in range(3):\n",
    "#             Ixx += M[i]*(cXYZ[i][1]**2 + cXYZ[i][2]**2)\n",
    "#             Iyy += M[i]*(cXYZ[i][0]**2 + cXYZ[i][2]**2)\n",
    "#             Izz += M[i]*(cXYZ[i][0]**2 + cXYZ[i][1]**2)\n",
    "#             Ixy += -M[i]*cXYZ[i][0]*cXYZ[i][1]\n",
    "#             Ixz += -M[i]*cXYZ[i][0]*cXYZ[i][2]\n",
    "#             Iyz += -M[i]*cXYZ[i][1]*cXYZ[i][2]\n",
    "#             Imatrix = np.matrix([[Ixx,Ixy,Ixz],[Ixy,Iyy,Iyz],[Ixz,Iyz,Izz]])\n",
    "#             Idiag = np.linalg.eig(Imatrix)\n",
    "#             print(Idiag)\n",
    "#             comX = 0-com[0]\n",
    "#             comY = 0-com[1]\n",
    "#         A = [A[0]+comX,A[1]+comY,A[2]]\n",
    "#         B = [B[0]+comX,B[1]+comY,B[2]]\n",
    "#         C = [C[0]+comX,C[1]+comY,C[2]]\n",
    "#         return A,B,C\n",
    "\n",
    "\n",
    "\n",
    "\n",
    "##Goes before function is called\n",
    "##system=hoomd.init.read_snapshot(MakeSnap(boxsize, nparticles))\n",
    "class RigidBodies:\n",
    "    #To Do:\n",
    "        #Fix the mess of coordinates I've made. \n",
    "        #Allow custom coordinates for rigid bodies\n",
    "    def MakeRigid(self, nrigid, rdiam=None, debug=None):\n",
    "        DebugMakeRigid = []\n",
    "        if rdiam==None:\n",
    "            for i in range(nrigid):\n",
    "                #system.particles.get(i).position=[0+i*2,i*2+1,i*2]\n",
    "                system.particles.get(i).position=[9*pow(-1,i),0,0]\n",
    "                system.particles.get(i).moment_inertia=[0.611524, 1.1476125, 1.7591365]\n",
    "                system.particles.get(i).diameter=1\n",
    "                DebugMakeRigid.append([9*pow(-1,i),0,0])\n",
    "        else:\n",
    "            rdiam = 1\n",
    "            for i in range(nrigid):\n",
    "                #system.particles.get(i).position=[0+i*2,i*2+1,i*2]\n",
    "                system.particles.get(i).position=[9*pow(-1,i),0,0]\n",
    "                system.particles.get(i).moment_inertia=[0.611524, 1.1476125, 1.7591365]\n",
    "                system.particles.get(i).diameter=rdiam \n",
    "                DebugMakeRigid.append([9*pow(-1,i),0,0])\n",
    "        if(debug==True):\n",
    "            print(\"DEBUG: MakeRigid: Rigid Body Positions = \", DebugMakeRigid)\n",
    "                \n",
    "\n",
    "            \n",
    "            \n",
    "    def PatchPositions(self, nrigid, npatch, angle, rdiam, pdiam, debug=None):\n",
    "        \n",
    "        rad = angle*np.pi/180.\n",
    "        sb = SimBox()\n",
    "        patch_coord = []\n",
    "        r_p = rdiam-pdiam\n",
    "        for i in range(nrigid):\n",
    "#             rigpos = system.particles[i].position\n",
    "#             rigdiam = system.particles[i].diameter\n",
    "            for j in range(npatch):\n",
    "                patch_coord.append([\n",
    "                    (9*pow(-1,i)+r_p)*np.cos(rad*pow(-1,j)), \n",
    "                    (0+r_p)*np.sin(rad*pow(-1,j)), \n",
    "                    (0)])\n",
    "        if(debug==True):\n",
    "            print(\"DEBUG: PatchPositions: Patch Positons = \", patch_coord)                        \n",
    "        return patch_coord\n",
    "    \n",
    "    \n",
    "    #Generates the types for the rigid bodies\n",
    "    def GenRigid(self, nrigid, debug=None):\n",
    "        rigid_types=[]\n",
    "        for i in range(nrigid):\n",
    "            counter=i+1\n",
    "            rigid_types.append('R%d'%counter)\n",
    "        if(debug==True):\n",
    "            print(\"DEBUG: GenRigid: Rigid Types = \", rigid_types)\n",
    "        return rigid_types\n",
    "    \n",
    "    ##Declare rigid=hoomd.md.constrain.rigid() before calling this function!\n",
    "    ##This Sets the rigid_param for each rigid body\n",
    "#     def RigidParam(self, patch_positions, patch_types, npatch):\n",
    "#         rigid_types=self.GenRigid(nrigid)\n",
    "#         for i in range(len(rigid_types)):\n",
    "#             rigid.set_param(\"%s\"%rigid_types[i],\n",
    "#                             positions=patch_positions, \n",
    "#                             types=patch_types,\n",
    "#                             #diameters=#diameter list\n",
    "#                            )\n",
    "\n",
    "    def RigidParam(self, patch_positions, patch_types, npatch):\n",
    "        rigid_types=self.GenRigid(nrigid)\n",
    "        counter = 0\n",
    "        for i in range(len(rigid_types)):\n",
    "            splt = [] #first split [0,1] then [2,3]\n",
    "            splt.append([patch_positions[i*2],patch_positions[i*2 +1]])\n",
    "            rigid.set_param(\"%s\"%rigid_types[i],\n",
    "                            positions=patch_positions, \n",
    "                            types=patch_types,\n",
    "                            #diameters=#diameter list\n",
    "                           )\n",
    "\n",
    "class Polymer:\n",
    "    ###To Do:\n",
    "        #user input for k and r0\n",
    "        #Define the bonds between particles\n",
    "            #just have it be linear with rigids on either end at first\n",
    "    def MakePolyParticles(self, nparticles, types, debug=None):\n",
    "        index = nrigid + npatch*nrigid\n",
    "        MakePolyDebug = []\n",
    "        for i in range(nparticles):\n",
    "            system.particles.add(types[index + i])\n",
    "            #system.particles.get(index+i).position = [0 + i, i, 0]\n",
    "            system.particles.get(index+i).position = [-8 + i, 0, 0]\n",
    "            system.particles.get(index+i).diameter = 0\n",
    "            system.particles.get(index+i).moment_intertia = [0,0,0]\n",
    "            MakePolyDebug.append([-8 + i, 0, 0])\n",
    "        if(debug==True):\n",
    "            print(\"DEBUG: MakePolyParticles: Polymer Particle Positions = \", MakePolyDebug)\n",
    "\n",
    "            \n",
    "            \n",
    "    def MakeBonds(self, nparticles, nrigid, npatch, tags, debug=None):\n",
    "        index1 = nrigid + npatch*nrigid\n",
    "        tot = nparticles + nrigid + npatch*nrigid -1\n",
    "        DebugBonds = []\n",
    "        system.bonds.add('tether',0,6)\n",
    "        system.bonds.add('tether',1,tot)\n",
    "        f=index1\n",
    "        while(f<=tot-1):\n",
    "            system.bonds.add('tether',f,f+1)\n",
    "            DebugBonds.append([f,f+1])\n",
    "            f+=1\n",
    "        if(debug==True):\n",
    "            print(\"DEBUG: MakeBonds: Bonds = \", DebugBonds)  \n",
    "            \n",
    "            \n",
    "class SimBox:\n",
    "    \n",
    "    ###Creates Initial Snapshot\n",
    "    def MakeSnap(self, boxsize, nrigid): \n",
    "        RB=RigidBodies()\n",
    "        snapshot=hoomd.data.make_snapshot(N=nrigid,box=hoomd.data.boxdim(L=boxsize),\n",
    "                                          bond_types=['tether'],particle_types=RB.GenRigid(nrigid))\n",
    "        return snapshot\n",
    "    \n",
    "    ###Adds Particle Types Based on Specified Number of Constituent Particles\n",
    "    ###Adds Patch Types\n",
    "    ###!!!!!DO NOT CHANGE ORDER!!!!!###\n",
    "    #######!!!!!!!!!!!!!!!!!#########\n",
    "    #######npatch*nrigid is debugging so the patch tag list equals the number of patches######\n",
    "    def AddParticleTypes(self, npatch, nparticles, debug=None):\n",
    "        counter=0\n",
    "        APTDebug = []\n",
    "        for k in range(npatch*nrigid):\n",
    "            counter=k+1\n",
    "            system.particles.types.add('P%d'%counter)\n",
    "            APTDebug.append('P%d'%counter)\n",
    "            #Debugging Stuff\n",
    "            #print(counter) \n",
    "        #Adds particle types, assigning the typeid as an arbitrary number.\n",
    "        for i in range(nparticles):\n",
    "            counter=i+1\n",
    "            system.particles.types.add('%d'%counter)\n",
    "            APTDebug.append('%d'%counter)\n",
    "            #print(counter) #Debugging\n",
    "        if(debug==True):\n",
    "            print(\"DEBUG: AddParticleRypes: Particle Types = \",APTDebug)\n",
    "            \n",
    "    #######!!!!!!!!!!!!!!!!!#########\n",
    "    #######npatch*nrigid is debugging so the patch tag list equals the number of patches######\n",
    "    def PatchTypes(self, nrigid, npatch, debug=None):\n",
    "        patch_types = []\n",
    "        for i in range(npatch*nrigid):\n",
    "            patch_types.append(system.particles.types[nrigid+i])\n",
    "        if(debug==True):\n",
    "            print(\"DEBUG: PatchTypes: Patch Types = \", patch_types)\n",
    "        return patch_types\n",
    "    \n",
    "   \n",
    "    def ptags(self, nrigid, npatch, nparticles, debug=None):\n",
    "        x = nrigid + npatch*nrigid + nparticles\n",
    "        if(debug==True):\n",
    "            print(\"DEBUG: ptags: Particle Tage = \", np.linspace(0,x-1,x))\n",
    "            return np.linspace(0,x-1,x)\n",
    "        else:\n",
    "            return np.linspace(0,x-1,x)    "
   ]
  },
  {
   "cell_type": "code",
   "execution_count": 85,
   "metadata": {},
   "outputs": [
    {
     "name": "stdout",
     "output_type": "stream",
     "text": [
      "notice(2): Group \"all\" created containing 2 particles\n",
      "DEBUG: MakeRigid: Rigid Body Positions =  [[9, 0, 0], [-9, 0, 0]]\n",
      "DEBUG: AddParticleRypes: Particle Types =  ['P1', 'P2', 'P3', 'P4', '1', '2', '3', '4', '5']\n",
      "DEBUG: ptags: Particle Tage =  [ 0.  1.  2.  3.  4.  5.  6.  7.  8.  9. 10.]\n",
      "DEBUG: PatchTypes: Patch Types =  ['P1', 'P2', 'P3', 'P4']\n",
      "DEBUG: PatchPositions: Patch Positons =  [[8.227241335952169, 0.24999999999999997, 0], [8.227241335952169, -0.24999999999999997, 0], [-7.361215932167729, 0.24999999999999997, 0], [-7.361215932167729, -0.24999999999999997, 0]]\n",
      "notice(2): constrain.rigid(): Creating 2 rigid bodies (adding 8 particles)\n",
      "DEBUG: MakePolyParticles: Polymer Particle Positions =  [[-8, 0, 0], [-7, 0, 0], [-6, 0, 0], [-5, 0, 0], [-4, 0, 0]]\n",
      "DEBUG: MakeBonds: Bonds =  [[6, 7], [7, 8], [8, 9], [9, 10]]\n"
     ]
    }
   ],
   "source": [
    "import hoomd,imp\n",
    "import hoomd\n",
    "from hoomd import *\n",
    "from hoomd import md\n",
    "import numpy as np\n",
    "import gsd.hoomd\n",
    "import time \n",
    "\n",
    "#Number of rigid bodies\n",
    "nrigid = 2\n",
    "#Box Size\n",
    "boxsize = 100\n",
    "#Number of constituent particles\n",
    "nparticles = 5\n",
    "#Number of Patches per Rigid Body\n",
    "npatch=2\n",
    "#Rigid Diameter\n",
    "rdiam = 1\n",
    "#Patch Diameter\n",
    "pdiam = 0.5\n",
    "#Angle of patches\n",
    "angle = 30\n",
    "##----------SETUP----------##\n",
    "context.initialize(\"\")\n",
    "\n",
    "#CallClasses\n",
    "Rig = RigidBodies()\n",
    "SB = SimBox()\n",
    "Poly = Polymer()\n",
    "\n",
    "#Makes initial snapshot\n",
    "snapshot = SB.MakeSnap(boxsize,nrigid)\n",
    "\n",
    "#Initializes System\n",
    "system = hoomd.init.read_snapshot(snapshot)\n",
    "\n",
    "#Creates Rigid Bodies\n",
    "Rig.MakeRigid(nrigid, rdiam, debug=True)\n",
    "\n",
    "Rig.GenRigid(nrigid)\n",
    "#Adds particle types based on the total number of constituent particles specified\n",
    "SB.AddParticleTypes(npatch, nparticles, debug=True)\n",
    "\n",
    "#Makes a list for the types of particles. This will be used for naming various things. \n",
    "types = system.particles.types\n",
    "\n",
    "#Makes list of tags for all particles in the system\n",
    "tags = SB.ptags(nrigid, npatch, nparticles, debug=True)\n",
    "#print(system.particles.types) #Debugging \n",
    "#print(\"Particle tags: \", tags)\n",
    "###PatchPositions(self, nrigid, npatch, angle, rdiam, pdiam)\n",
    "\n",
    "#Contrains Rigid Bodies\n",
    "rigid=hoomd.md.constrain.rigid()\n",
    "\n",
    "#Creates of list of all the patch types\n",
    "patch_types = SB.PatchTypes(nrigid, npatch, debug=True)\n",
    "\n",
    "#Creates a list of all the patch coordinates\n",
    "patch_positions = Rig.PatchPositions(nrigid, npatch, angle, rdiam, pdiam, debug=True)\n",
    "\n",
    "#Sets the rigid_param for each rigid body (needs work)\n",
    "Rig.RigidParam(patch_positions, patch_types, npatch)\n",
    "\n",
    "#Creates rigid bodies\n",
    "rigid.create_bodies()\n",
    "\n",
    "#Adds constituent particles to sim box (needs work)\n",
    "Poly.MakePolyParticles(nparticles, types, debug=True)\n",
    "\n",
    "#Creates bonds between particles (needs work)\n",
    "Poly.MakeBonds(nparticles, nrigid, npatch, tags, debug=True)"
   ]
  },
  {
   "cell_type": "code",
   "execution_count": 86,
   "metadata": {},
   "outputs": [
    {
     "name": "stdout",
     "output_type": "stream",
     "text": [
      "notice(2): Group \"rigid_center\" created containing 2 particles\n"
     ]
    }
   ],
   "source": [
    "#Defines harmonic bonds\n",
    "harm = md.bond.harmonic()\n",
    "harm.bond_coeff.set('tether',k=20,r0=1)\n",
    "\n",
    "#Groups rigid centers\n",
    "center = hoomd.group.rigid_center()\n",
    "\n",
    "#Groups all particles\n",
    "part = hoomd.group.all()\n",
    "\n",
    "#LJ Cutoff\n",
    "rcut = 2.0\n",
    "\n",
    "#Neighbor List\n",
    "nl = md.nlist.cell(check_period = 1)\n",
    "\n",
    "#Placeholder for the sigma and epsilon values (will integrate into other functions later)\n",
    "sig = [1,1,1,1,1,1,1,1,1,1,1]\n",
    "eps = [0.1,0.1,0.1,0.1,0.1,0.1,0.1,0.1,0.1,0.1,0.1]\n",
    "\n",
    "#Defines LJ\n",
    "lj = md.pair.lj(r_cut=rcut, nlist=nl)\n",
    "\n",
    "#Calculates LJ forces (this might be causing problems)\n",
    "for i in range(0,len(sig)):\n",
    "    for j in range(i,len(sig)):\n",
    "        lj.pair_coeff.set(types[i],types[j],epsilon=0.5*(eps[i]+eps[j]),sigma=0.5*(sig[i]+sig[j]))"
   ]
  },
  {
   "cell_type": "code",
   "execution_count": 87,
   "metadata": {},
   "outputs": [
    {
     "name": "stdout",
     "output_type": "stream",
     "text": [
      "notice(2): Group \"nonrigid\" created containing 5 particles\n",
      "notice(2): integrate.langevin/bd is using specified gamma values\n",
      "notice(2): integrate.langevin/bd is using specified gamma values\n",
      "notice(2): -- Neighborlist exclusion statistics -- :\n",
      "notice(2): Particles with 0 exclusions             : 8\n",
      "notice(2): Particles with 1 exclusions             : 2\n",
      "notice(2): Particles with 2 exclusions             : 5\n",
      "notice(2): Neighbors included by diameter          : no\n",
      "notice(2): Neighbors excluded when in the same body: yes\n",
      "** starting run **\n"
     ]
    },
    {
     "name": "stderr",
     "output_type": "stream",
     "text": [
      "*Warning*: Integrator #0: Anisotropic integration requested, but no rotational degrees of freedom found for its group\n",
      "**ERROR**: Particle with unique tag 14 has NaN for its position.\n"
     ]
    },
    {
     "ename": "RuntimeError",
     "evalue": "Error computing cell list",
     "output_type": "error",
     "traceback": [
      "\u001b[0;31m---------------------------------------------------------------------------\u001b[0m",
      "\u001b[0;31mRuntimeError\u001b[0m                              Traceback (most recent call last)",
      "\u001b[0;32m<ipython-input-87-ef332639975f>\u001b[0m in \u001b[0;36m<module>\u001b[0;34m\u001b[0m\n\u001b[1;32m     16\u001b[0m \u001b[0;31m#hoomd.deprecated.dump.xml(group=part,filename ='random.xml',vis=True,image=True)\u001b[0m\u001b[0;34m\u001b[0m\u001b[0;34m\u001b[0m\u001b[0;34m\u001b[0m\u001b[0m\n\u001b[1;32m     17\u001b[0m \u001b[0mhoomd\u001b[0m\u001b[0;34m.\u001b[0m\u001b[0mdump\u001b[0m\u001b[0;34m.\u001b[0m\u001b[0mgsd\u001b[0m\u001b[0;34m(\u001b[0m\u001b[0mfilename\u001b[0m\u001b[0;34m=\u001b[0m\u001b[0;34m'random %s.gsd'\u001b[0m\u001b[0;34m%\u001b[0m\u001b[0mt\u001b[0m\u001b[0;34m,\u001b[0m\u001b[0mperiod\u001b[0m\u001b[0;34m=\u001b[0m\u001b[0;36m1000\u001b[0m\u001b[0;34m,\u001b[0m \u001b[0mgroup\u001b[0m \u001b[0;34m=\u001b[0m \u001b[0mhoomd\u001b[0m\u001b[0;34m.\u001b[0m\u001b[0mgroup\u001b[0m\u001b[0;34m.\u001b[0m\u001b[0mall\u001b[0m\u001b[0;34m(\u001b[0m\u001b[0;34m)\u001b[0m \u001b[0;34m,\u001b[0m\u001b[0moverwrite\u001b[0m \u001b[0;34m=\u001b[0m \u001b[0;32mTrue\u001b[0m\u001b[0;34m)\u001b[0m\u001b[0;34m\u001b[0m\u001b[0;34m\u001b[0m\u001b[0m\n\u001b[0;32m---> 18\u001b[0;31m \u001b[0mhoomd\u001b[0m\u001b[0;34m.\u001b[0m\u001b[0mrun\u001b[0m\u001b[0;34m(\u001b[0m\u001b[0;36m1000000\u001b[0m\u001b[0;34m)\u001b[0m\u001b[0;34m\u001b[0m\u001b[0;34m\u001b[0m\u001b[0m\n\u001b[0m",
      "\u001b[0;32m~/anaconda3/lib/python3.6/site-packages/hoomd/__init__.py\u001b[0m in \u001b[0;36mrun\u001b[0;34m(tsteps, profile, limit_hours, limit_multiple, callback_period, callback, quiet)\u001b[0m\n\u001b[1;32m    192\u001b[0m     \u001b[0;32mif\u001b[0m \u001b[0;32mnot\u001b[0m \u001b[0mquiet\u001b[0m\u001b[0;34m:\u001b[0m\u001b[0;34m\u001b[0m\u001b[0;34m\u001b[0m\u001b[0m\n\u001b[1;32m    193\u001b[0m         \u001b[0mcontext\u001b[0m\u001b[0;34m.\u001b[0m\u001b[0mmsg\u001b[0m\u001b[0;34m.\u001b[0m\u001b[0mnotice\u001b[0m\u001b[0;34m(\u001b[0m\u001b[0;36m1\u001b[0m\u001b[0;34m,\u001b[0m \u001b[0;34m\"** starting run **\\n\"\u001b[0m\u001b[0;34m)\u001b[0m\u001b[0;34m;\u001b[0m\u001b[0;34m\u001b[0m\u001b[0;34m\u001b[0m\u001b[0m\n\u001b[0;32m--> 194\u001b[0;31m     \u001b[0mcontext\u001b[0m\u001b[0;34m.\u001b[0m\u001b[0mcurrent\u001b[0m\u001b[0;34m.\u001b[0m\u001b[0msystem\u001b[0m\u001b[0;34m.\u001b[0m\u001b[0mrun\u001b[0m\u001b[0;34m(\u001b[0m\u001b[0mint\u001b[0m\u001b[0;34m(\u001b[0m\u001b[0mtsteps\u001b[0m\u001b[0;34m)\u001b[0m\u001b[0;34m,\u001b[0m \u001b[0mcallback_period\u001b[0m\u001b[0;34m,\u001b[0m \u001b[0mcallback\u001b[0m\u001b[0;34m,\u001b[0m \u001b[0mlimit_hours\u001b[0m\u001b[0;34m,\u001b[0m \u001b[0mint\u001b[0m\u001b[0;34m(\u001b[0m\u001b[0mlimit_multiple\u001b[0m\u001b[0;34m)\u001b[0m\u001b[0;34m)\u001b[0m\u001b[0;34m;\u001b[0m\u001b[0;34m\u001b[0m\u001b[0;34m\u001b[0m\u001b[0m\n\u001b[0m\u001b[1;32m    195\u001b[0m     \u001b[0;32mif\u001b[0m \u001b[0;32mnot\u001b[0m \u001b[0mquiet\u001b[0m\u001b[0;34m:\u001b[0m\u001b[0;34m\u001b[0m\u001b[0;34m\u001b[0m\u001b[0m\n\u001b[1;32m    196\u001b[0m         \u001b[0mcontext\u001b[0m\u001b[0;34m.\u001b[0m\u001b[0mmsg\u001b[0m\u001b[0;34m.\u001b[0m\u001b[0mnotice\u001b[0m\u001b[0;34m(\u001b[0m\u001b[0;36m1\u001b[0m\u001b[0;34m,\u001b[0m \u001b[0;34m\"** run complete **\\n\"\u001b[0m\u001b[0;34m)\u001b[0m\u001b[0;34m;\u001b[0m\u001b[0;34m\u001b[0m\u001b[0;34m\u001b[0m\u001b[0m\n",
      "\u001b[0;31mRuntimeError\u001b[0m: Error computing cell list"
     ]
    }
   ],
   "source": [
    "#Integrators. \n",
    "hoomd.md.integrate.mode_standard(dt=0.002)\n",
    "#hoomd.md.integrate.langevin(group=part, kT=0.01, seed = 5)\n",
    "hoomd.md.integrate.langevin(group=hoomd.group.nonrigid(), kT=0.01, seed = 5)\n",
    "hoomd.md.integrate.langevin(group=center, kT=0.01, seed = 5)\n",
    "\n",
    "#Allows me to make unique file names\n",
    "import time \n",
    "t = time.strftime(time.strftime(\"%d %b %H:%M:%S\", time.gmtime()))\n",
    "\n",
    "### DUMP AND RUN ###\n",
    "hoomd.analyze.log(filename='random.log',quantities=['temperature','num_particles','ndof',\n",
    "                                                    'translational_ndof','rotational_ndof',\n",
    "                                                    'potential_energy'],period=1000,header_prefix='#'\n",
    "                                                      ,overwrite=True)\n",
    "#hoomd.deprecated.dump.xml(group=part,filename ='random.xml',vis=True,image=True)\n",
    "hoomd.dump.gsd(filename='random %s.gsd'%t,period=1000, group = hoomd.group.all() ,overwrite = True)\n",
    "hoomd.run(1000000)"
   ]
  },
  {
   "cell_type": "markdown",
   "metadata": {},
   "source": [
    "## All code below this cell is just me experimenting with/ testing code before implementing it. Don't worry if it's wrong or makes no sense."
   ]
  },
  {
   "cell_type": "code",
   "execution_count": 90,
   "metadata": {},
   "outputs": [
    {
     "name": "stdout",
     "output_type": "stream",
     "text": [
      "range(0, 2)\n"
     ]
    }
   ],
   "source": [
    "rigid_types=Rig.GenRigid(nrigid)\n",
    "print(range(len(rigid_types)))"
   ]
  },
  {
   "cell_type": "code",
   "execution_count": 91,
   "metadata": {},
   "outputs": [
    {
     "name": "stdout",
     "output_type": "stream",
     "text": [
      "0\n",
      "1\n"
     ]
    }
   ],
   "source": [
    "for i in range(len(rigid_types)):\n",
    "    print(i)"
   ]
  },
  {
   "cell_type": "code",
   "execution_count": 57,
   "metadata": {},
   "outputs": [
    {
     "name": "stdout",
     "output_type": "stream",
     "text": [
      "[ 0.  1.  2.  3.  4.  5.  6.  7.  8.  9. 10.]\n"
     ]
    }
   ],
   "source": [
    "print(SB.ptags(nrigid, npatch, nparticles))"
   ]
  },
  {
   "cell_type": "code",
   "execution_count": 44,
   "metadata": {},
   "outputs": [
    {
     "name": "stdout",
     "output_type": "stream",
     "text": [
      "[0.43301270189221935, 0.24999999999999997, 0.0]\n"
     ]
    }
   ],
   "source": [
    "print(patch_positions[0])"
   ]
  },
  {
   "cell_type": "code",
   "execution_count": 53,
   "metadata": {},
   "outputs": [
    {
     "data": {
      "text/plain": [
       "0.0"
      ]
     },
     "execution_count": 53,
     "metadata": {},
     "output_type": "execute_result"
    }
   ],
   "source": [
    "min(tags)"
   ]
  },
  {
   "cell_type": "code",
   "execution_count": 56,
   "metadata": {},
   "outputs": [
    {
     "name": "stdout",
     "output_type": "stream",
     "text": [
      "Particle types: ['R1', 'R2', 'P1', 'P2', 'P3', 'P4', '1', '2', '3', '4', '5']\n"
     ]
    }
   ],
   "source": [
    "print(types)"
   ]
  },
  {
   "cell_type": "code",
   "execution_count": 54,
   "metadata": {},
   "outputs": [
    {
     "data": {
      "text/plain": [
       "'R2'"
      ]
     },
     "execution_count": 54,
     "metadata": {},
     "output_type": "execute_result"
    }
   ],
   "source": [
    "max(types)"
   ]
  },
  {
   "cell_type": "code",
   "execution_count": 48,
   "metadata": {},
   "outputs": [
    {
     "name": "stdout",
     "output_type": "stream",
     "text": [
      "[]\n"
     ]
    }
   ],
   "source": [
    "print(snapshot.bonds.group)"
   ]
  },
  {
   "cell_type": "code",
   "execution_count": 50,
   "metadata": {},
   "outputs": [
    {
     "name": "stdout",
     "output_type": "stream",
     "text": [
      "typeid       : 0\n",
      "a            : 0\n",
      "b            : 6\n",
      "type         : tether\n",
      "\n",
      "typeid       : 0\n",
      "a            : 1\n",
      "b            : 10\n",
      "type         : tether\n",
      "\n",
      "typeid       : 0\n",
      "a            : 6\n",
      "b            : 7\n",
      "type         : tether\n",
      "\n",
      "typeid       : 0\n",
      "a            : 7\n",
      "b            : 8\n",
      "type         : tether\n",
      "\n",
      "typeid       : 0\n",
      "a            : 8\n",
      "b            : 9\n",
      "type         : tether\n",
      "\n",
      "typeid       : 0\n",
      "a            : 9\n",
      "b            : 10\n",
      "type         : tether\n",
      "\n"
     ]
    }
   ],
   "source": [
    "for p in range(6):\n",
    "    print(system.bonds[p])"
   ]
  },
  {
   "cell_type": "code",
   "execution_count": 47,
   "metadata": {},
   "outputs": [
    {
     "name": "stdout",
     "output_type": "stream",
     "text": [
      "[0 0]\n"
     ]
    }
   ],
   "source": [
    "print(snapshot.particles.typeid)"
   ]
  },
  {
   "cell_type": "code",
   "execution_count": 43,
   "metadata": {},
   "outputs": [
    {
     "name": "stdout",
     "output_type": "stream",
     "text": [
      "['P1', 'P2', 'P3', 'P4']\n"
     ]
    }
   ],
   "source": [
    "print(patch_types)"
   ]
  },
  {
   "cell_type": "code",
   "execution_count": null,
   "metadata": {},
   "outputs": [],
   "source": [
    "#     def PatchPositions(self, nrigid, npatch, angle, rdiam, pdiam):\n",
    "#         rad = angle*np.pi/180.\n",
    "#         sb = SimBox()\n",
    "#         patch_coord = []\n",
    "#         r_p = rdiam-pdiam\n",
    "#         for i in range(nrigid):\n",
    "#             rigpos = system.particles[i].position\n",
    "#             rigdiam = system.particles[i].diameter\n",
    "#             for j in range(npatch):\n",
    "#                 patch_coord.append([\n",
    "#                     (rigpos[0]+r_p)*np.cos(rad+rad*j), \n",
    "#                     (rigpos[1]+r_p)*np.sin(rad+rad*j), \n",
    "#                     (rigpos[2])\n",
    "#                                     ])\n",
    "#         return patch_coord\n",
    "    \n",
    "#     def PatchPositions(self, nrigid, npatch, angle, rdiam, pdiam):\n",
    "        \n",
    "#         rad = angle*np.pi/180.\n",
    "#         sb = SimBox()\n",
    "#         patch_coord = []\n",
    "#         r_p = rdiam-pdiam\n",
    "#         for i in range(nrigid):\n",
    "#             rigpos = system.particles[i].position\n",
    "#             rigdiam = system.particles[i].diameter\n",
    "#             for j in range(npatch):\n",
    "#                 patch_coord.append([\n",
    "#                     (rigpos[0]+r_p)*np.cos(rad+rad*j), \n",
    "#                     (rigpos[1]+r_p)*np.sin(rad+rad*j), \n",
    "#                     (rigpos[2])])\n",
    "#         print(\"Patch Positons = \", patch_coord)                        \n",
    "#         return patch_coord\n"
   ]
  },
  {
   "cell_type": "code",
   "execution_count": 16,
   "metadata": {},
   "outputs": [
    {
     "name": "stdout",
     "output_type": "stream",
     "text": [
      "HOOMD-blue 2.3.1 DOUBLE HPMC_MIXED SSE SSE2 SSE3 \n",
      "Compiled: 06/07/18\n",
      "Copyright 2009-2018 The Regents of the University of Michigan.\n",
      "-----\n",
      "You are using HOOMD-blue. Please cite the following:\n",
      "* J A Anderson, C D Lorenz, and A Travesset. \"General purpose molecular dynamics\n",
      "  simulations fully implemented on graphics processing units\", Journal of\n",
      "  Computational Physics 227 (2008) 5342--5359\n",
      "* J Glaser, T D Nguyen, J A Anderson, P Liu, F Spiga, J A Millan, D C Morse, and\n",
      "  S C Glotzer. \"Strong scaling of general-purpose molecular dynamics simulations\n",
      "  on GPUs\", Computer Physics Communications 192 (2015) 97--107\n",
      "-----\n",
      "HOOMD-blue is running on the CPU\n"
     ]
    },
    {
     "data": {
      "text/plain": [
       "<hoomd._hoomd.SnapshotSystemData_float at 0x1163230a0>"
      ]
     },
     "execution_count": 16,
     "metadata": {},
     "output_type": "execute_result"
    }
   ],
   "source": [
    "import hoomd,imp\n",
    "import hoomd\n",
    "from hoomd import *\n",
    "from hoomd import md\n",
    "import numpy as np\n",
    "import gsd.hoomd\n",
    "import time \n",
    "\n",
    "context.initialize(\"\")\n",
    "\n",
    "SB = SimBox()\n",
    "SB.MakeSnap(10,2)"
   ]
  },
  {
   "cell_type": "code",
   "execution_count": 33,
   "metadata": {},
   "outputs": [],
   "source": [
    "M=[]\n",
    "\n",
    "for Ω in range(5):\n",
    "    M.append('%d'%(Ω+1))"
   ]
  },
  {
   "cell_type": "code",
   "execution_count": 18,
   "metadata": {},
   "outputs": [
    {
     "data": {
      "text/plain": [
       "(0.0, 0.0, 0.0)"
      ]
     },
     "execution_count": 18,
     "metadata": {},
     "output_type": "execute_result"
    }
   ],
   "source": [
    "system.particles[0].position"
   ]
  },
  {
   "cell_type": "code",
   "execution_count": 47,
   "metadata": {},
   "outputs": [
    {
     "name": "stdout",
     "output_type": "stream",
     "text": [
      "['V1', 'V2']\n"
     ]
    }
   ],
   "source": [
    "print(snapshot.particles.types)"
   ]
  },
  {
   "cell_type": "code",
   "execution_count": 16,
   "metadata": {},
   "outputs": [
    {
     "name": "stdout",
     "output_type": "stream",
     "text": [
      "Particle types: ['R1', 'R2', 'P1', 'P2']\n"
     ]
    }
   ],
   "source": [
    "print(system.particles.types)"
   ]
  },
  {
   "cell_type": "code",
   "execution_count": 10,
   "metadata": {},
   "outputs": [
    {
     "data": {
      "text/plain": [
       "'V2'"
      ]
     },
     "execution_count": 10,
     "metadata": {},
     "output_type": "execute_result"
    }
   ],
   "source": [
    "system.particles.types[1]"
   ]
  },
  {
   "cell_type": "code",
   "execution_count": 10,
   "metadata": {},
   "outputs": [],
   "source": [
    "types = system.particles.types"
   ]
  },
  {
   "cell_type": "code",
   "execution_count": 12,
   "metadata": {},
   "outputs": [
    {
     "data": {
      "text/plain": [
       "'V1'"
      ]
     },
     "execution_count": 12,
     "metadata": {},
     "output_type": "execute_result"
    }
   ],
   "source": [
    "types[0]"
   ]
  },
  {
   "cell_type": "code",
   "execution_count": 35,
   "metadata": {},
   "outputs": [
    {
     "name": "stdout",
     "output_type": "stream",
     "text": [
      "R1\n",
      "R2\n",
      "R3\n",
      "'R2'\n"
     ]
    }
   ],
   "source": [
    "RB=RigidBodies()\n",
    "Q = RB.GenRigid(3)\n",
    "for i in range(len(Q)):\n",
    "    print('%s'%Q[i])\n",
    "print(\"'%s'\"%Q[1])"
   ]
  },
  {
   "cell_type": "code",
   "execution_count": 27,
   "metadata": {},
   "outputs": [
    {
     "data": {
      "text/plain": [
       "'R2'"
      ]
     },
     "execution_count": 27,
     "metadata": {},
     "output_type": "execute_result"
    }
   ],
   "source": [
    "Q[1]"
   ]
  },
  {
   "cell_type": "code",
   "execution_count": 29,
   "metadata": {},
   "outputs": [
    {
     "name": "stdout",
     "output_type": "stream",
     "text": [
      "R1\n",
      "R2\n"
     ]
    }
   ],
   "source": [
    "rigid=hoomd.md.constrain.rigid()\n",
    "rigid_types=RB.GenRigid(nrigid)\n",
    "for i in range(len(rigid_types)):\n",
    "    print(Q[i])"
   ]
  },
  {
   "cell_type": "code",
   "execution_count": null,
   "metadata": {},
   "outputs": [],
   "source": []
  }
 ],
 "metadata": {
  "kernelspec": {
   "display_name": "Python 3",
   "language": "python",
   "name": "python3"
  },
  "language_info": {
   "codemirror_mode": {
    "name": "ipython",
    "version": 3
   },
   "file_extension": ".py",
   "mimetype": "text/x-python",
   "name": "python",
   "nbconvert_exporter": "python",
   "pygments_lexer": "ipython3",
   "version": "3.6.8"
  }
 },
 "nbformat": 4,
 "nbformat_minor": 2
}
