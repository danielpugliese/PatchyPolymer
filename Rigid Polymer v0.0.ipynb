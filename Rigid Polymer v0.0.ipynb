{
 "cells": [
  {
   "cell_type": "code",
   "execution_count": 75,
   "metadata": {},
   "outputs": [
    {
     "name": "stdout",
     "output_type": "stream",
     "text": [
      "notice(2): Group \"all\" created containing 125 particles\n"
     ]
    },
    { 
     "name": "stderr",
     "output_type": "stream",
     "text": [
      "**ERROR**: No bonds are defined.\n"
     ]
    },
    {
     "ename": "RuntimeError",
     "evalue": "Error creating bond forces",
     "output_type": "error",
     "traceback": [
      "\u001b[0;31m---------------------------------------------------------------------------\u001b[0m",
      "\u001b[0;31mRuntimeError\u001b[0m                              Traceback (most recent call last)",
      "\u001b[0;32m<ipython-input-75-e9beff6f8ae9>\u001b[0m in \u001b[0;36m<module>\u001b[0;34m\u001b[0m\n\u001b[1;32m     32\u001b[0m \u001b[0msystem\u001b[0m\u001b[0;34m.\u001b[0m\u001b[0mparticles\u001b[0m\u001b[0;34m.\u001b[0m\u001b[0mtypes\u001b[0m\u001b[0;34m.\u001b[0m\u001b[0madd\u001b[0m\u001b[0;34m(\u001b[0m\u001b[0;34m'A'\u001b[0m\u001b[0;34m)\u001b[0m\u001b[0;34m;\u001b[0m\u001b[0;34m\u001b[0m\u001b[0;34m\u001b[0m\u001b[0m\n\u001b[1;32m     33\u001b[0m \u001b[0;34m\u001b[0m\u001b[0m\n\u001b[0;32m---> 34\u001b[0;31m \u001b[0mharmonic\u001b[0m \u001b[0;34m=\u001b[0m \u001b[0mhoomd\u001b[0m\u001b[0;34m.\u001b[0m\u001b[0mmd\u001b[0m\u001b[0;34m.\u001b[0m\u001b[0mbond\u001b[0m\u001b[0;34m.\u001b[0m\u001b[0mharmonic\u001b[0m\u001b[0;34m(\u001b[0m\u001b[0mname\u001b[0m\u001b[0;34m=\u001b[0m\u001b[0;34m'polymer'\u001b[0m\u001b[0;34m)\u001b[0m\u001b[0;34m\u001b[0m\u001b[0;34m\u001b[0m\u001b[0m\n\u001b[0m\u001b[1;32m     35\u001b[0m \u001b[0;34m\u001b[0m\u001b[0m\n\u001b[1;32m     36\u001b[0m \u001b[0;34m\u001b[0m\u001b[0m\n",
      "\u001b[0;32m~/anaconda3/lib/python3.6/site-packages/hoomd/md/bond.py\u001b[0m in \u001b[0;36m__init__\u001b[0;34m(self, name)\u001b[0m\n\u001b[1;32m    286\u001b[0m         \u001b[0;32mif\u001b[0m \u001b[0mhoomd\u001b[0m\u001b[0;34m.\u001b[0m\u001b[0mcontext\u001b[0m\u001b[0;34m.\u001b[0m\u001b[0mcurrent\u001b[0m\u001b[0;34m.\u001b[0m\u001b[0msystem_definition\u001b[0m\u001b[0;34m.\u001b[0m\u001b[0mgetBondData\u001b[0m\u001b[0;34m(\u001b[0m\u001b[0;34m)\u001b[0m\u001b[0;34m.\u001b[0m\u001b[0mgetNGlobal\u001b[0m\u001b[0;34m(\u001b[0m\u001b[0;34m)\u001b[0m \u001b[0;34m==\u001b[0m \u001b[0;36m0\u001b[0m\u001b[0;34m:\u001b[0m\u001b[0;34m\u001b[0m\u001b[0;34m\u001b[0m\u001b[0m\n\u001b[1;32m    287\u001b[0m             \u001b[0mhoomd\u001b[0m\u001b[0;34m.\u001b[0m\u001b[0mcontext\u001b[0m\u001b[0;34m.\u001b[0m\u001b[0mmsg\u001b[0m\u001b[0;34m.\u001b[0m\u001b[0merror\u001b[0m\u001b[0;34m(\u001b[0m\u001b[0;34m\"No bonds are defined.\\n\"\u001b[0m\u001b[0;34m)\u001b[0m\u001b[0;34m;\u001b[0m\u001b[0;34m\u001b[0m\u001b[0;34m\u001b[0m\u001b[0m\n\u001b[0;32m--> 288\u001b[0;31m             \u001b[0;32mraise\u001b[0m \u001b[0mRuntimeError\u001b[0m\u001b[0;34m(\u001b[0m\u001b[0;34m\"Error creating bond forces\"\u001b[0m\u001b[0;34m)\u001b[0m\u001b[0;34m;\u001b[0m\u001b[0;34m\u001b[0m\u001b[0;34m\u001b[0m\u001b[0m\n\u001b[0m\u001b[1;32m    289\u001b[0m \u001b[0;34m\u001b[0m\u001b[0m\n\u001b[1;32m    290\u001b[0m         \u001b[0;31m# create the c++ mirror class\u001b[0m\u001b[0;34m\u001b[0m\u001b[0;34m\u001b[0m\u001b[0;34m\u001b[0m\u001b[0m\n",
      "\u001b[0;31mRuntimeError\u001b[0m: Error creating bond forces"
     ]
    }
   ],
   "source": [
    "import hoomd,imp\n",
    "import hoomd\n",
    "from hoomd import *\n",
    "from hoomd import md\n",
    "import numpy as np\n",
    "import gsd.hoomd\n",
    "import time \n",
    "\n",
    "t = time.strftime(time.strftime(\"%d %b %H:%M:%S\", time.gmtime()))\n",
    "seed=42\n",
    "deg=30\n",
    "Angle = deg*np.pi/180.\n",
    "beadr=0.8\n",
    "patchr=0.4\n",
    "br_pr=beadr-patchr\n",
    "context.initialize(\"\")\n",
    "# Place the type R central particles\n",
    "uc = hoomd.lattice.unitcell(N = 1,\n",
    "                            a1 = [5, 0,   0],\n",
    "                            a2 = [0,    5, 0],\n",
    "                            a3 = [0,    0,   5],\n",
    "                            dimensions = 3,\n",
    "                            position = [[0,0,0]],\n",
    "                            type_name = ['B'],\n",
    "                            mass = [1.0],\n",
    "                            diameter=[beadr],\n",
    "                            moment_inertia = [[0,\n",
    "                                               1/12*1.0*8**2,\n",
    "                                               1/12*1.0*8**2]],\n",
    "                            orientation = [[1, 0, 0, 0]]);\n",
    "system = hoomd.init.create_lattice(unitcell=uc, n=[5,5,5]);\n",
    "system.particles.types.add('A');\n",
    "\n",
    "\n",
    "\n",
    "harmonic = hoomd.md.bond.harmonic(name='polymer')\n",
    "harmonic.bond_coeff.set('polymer', k=330.0, r0=1.0)\n",
    "\n",
    "\n",
    "\n",
    "# Add constituent particles of type A and create the patches\n",
    "\n",
    "\n",
    "\n",
    "rigid = hoomd.md.constrain.rigid();\n",
    "#rigid = hoomd.group.rigid_center();\n",
    "part = rigid.set_param('B',\n",
    "                types=['A']*2,\n",
    "                positions=[(-(br_pr)*np.cos(Angle),br_pr*np.sin(Angle),0),(br_pr*np.cos(Angle),br_pr*np.sin(Angle),0)],\n",
    "                diameters=[patchr,patchr]);\n",
    "\n",
    "rigid.create_bodies()\n",
    "rigid.validate_bodies()\n",
    "nl = hoomd.md.nlist.cell();\n",
    "\n",
    "\n",
    "lj = hoomd.md.pair.lj(r_cut=2.0, nlist=nl);\n",
    "lj.pair_coeff.set('A', 'A', epsilon=1.5, sigma = 1.0);\n",
    "lj.pair_coeff.set('A', 'B', epsilon=0.5, sigma = 1.0);\n",
    "lj.pair_coeff.set('B', 'B', epsilon=0.5, sigma = 1.0);\n",
    "\n",
    "\n",
    "\n",
    "dump.gsd(filename='PP00 %s.gsd'%t,period=250,group=group.all(),phase=0)\n",
    "\n",
    "hoomd.md.integrate.mode_standard(dt=0.01, aniso=True);\n",
    "rigid = hoomd.group.rigid_center();\n",
    "all = hoomd.group.all();\n",
    "\n",
    "integrator = md.integrate.mode_standard(dt=0.001, aniso=True) \n",
    "\n",
    "hoomd.md.integrate.langevin(group=rigid, kT=1.0, seed=42);\n",
    "hoomd.analyze.log(filename=\"log-output.log\",\n",
    "                  quantities=['potential_energy', 'temperature'],\n",
    "                  period=500,\n",
    "                  overwrite=True);\n",
    "hoomd.run(5e4);\n",
    "# langevin.disable()\n",
    "uc.get_type_list()\n",
    "uc.get_typeid_mapping()\n",
    "uc.get_snapshot()\n"
   ]
  },
  {
   "cell_type": "code",
   "execution_count": 65,
   "metadata": {},
   "outputs": [
    {
     "data": {
      "text/plain": [
       "<hoomd._hoomd.SnapshotSystemData_double at 0x1129f5148>"
      ]
     },
     "execution_count": 65,
     "metadata": {},
     "output_type": "execute_result"
    }
   ],
   "source": [
    "uc.get_snapshot()\n"
   ]
  },
  {
   "cell_type": "code",
   "execution_count": 60,
   "metadata": {},
   "outputs": [
    {
     "data": {
      "text/plain": [
       "{'B': 0}"
      ]
     },
     "execution_count": 60,
     "metadata": {},
     "output_type": "execute_result"
    }
   ],
   "source": [
    "uc.get_typeid_mapping()"
   ]
  },
  {
   "cell_type": "code",
   "execution_count": 61,
   "metadata": {},
   "outputs": [
    {
     "data": {
      "text/plain": [
       "['B']"
      ]
     },
     "execution_count": 61,
     "metadata": {},
     "output_type": "execute_result"
    }
   ],
   "source": [
    "uc.get_type_list()"
   ]
  },
  {
   "cell_type": "code",
   "execution_count": null,
   "metadata": {},
   "outputs": [],
   "source": []
  }
 ],
 "metadata": {
  "kernelspec": {
   "display_name": "Python 3",
   "language": "python",
   "name": "python3"
  },
  "language_info": {
   "codemirror_mode": {
    "name": "ipython",
    "version": 3
   },
   "file_extension": ".py",
   "mimetype": "text/x-python",
   "name": "python",
   "nbconvert_exporter": "python",
   "pygments_lexer": "ipython3",
   "version": "3.6.8"
  }
 },
 "nbformat": 4,
 "nbformat_minor": 2
}
